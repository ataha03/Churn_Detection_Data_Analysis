{
 "cells": [
  {
   "cell_type": "markdown",
   "id": "1ad8fd8d",
   "metadata": {},
   "source": [
    "# Churn Detection\n",
    "\n",
    "The objective of this project is to work with a customer dataset from a TV and\n",
    "broadband telecommunications company. In this area, \"churn\" refers to the situation\n",
    "where customers cancel their subscription to the company's services, leading to a loss\n",
    "of revenue. The company would like to use their existing customer data to build a\n",
    "model to predict future churn."
   ]
  },
  {
   "cell_type": "code",
   "execution_count": 2,
   "id": "6b03ede0",
   "metadata": {},
   "outputs": [],
   "source": [
    "#Importing useful libraries\n",
    "import csv, urllib.request, numpy as np, pandas as pd\n",
    "from pathlib import Path\n",
    "import matplotlib, matplotlib.pyplot as plt\n",
    "%matplotlib inline\n",
    "import seaborn as sns\n",
    "from sklearn.model_selection import train_test_split, cross_val_score\n",
    "from sklearn.neighbors import KNeighborsClassifier\n",
    "from sklearn.tree import DecisionTreeClassifier\n",
    "from sklearn.metrics import accuracy_score, f1_score, confusion_matrix, ConfusionMatrixDisplay"
   ]
  },
  {
   "cell_type": "markdown",
   "id": "7b44e1c9",
   "metadata": {},
   "source": [
    "## Task 1: Data Characterisation and Preprocessing"
   ]
  },
  {
   "cell_type": "code",
   "execution_count": null,
   "id": "8853ff49",
   "metadata": {},
   "outputs": [],
   "source": [
    "url = \"http://mlg.ucd.ie/modules/COMP30760/assignment2/21334466.csv\""
   ]
  },
  {
   "cell_type": "code",
   "execution_count": 491,
   "id": "6646f6ff",
   "metadata": {},
   "outputs": [],
   "source": [
    "#Loading dataset into a pandas DataFrame\n",
    "df = pd.read_csv(url, index_col=\"customer_id\")"
   ]
  },
  {
   "cell_type": "markdown",
   "id": "fbbdd571",
   "metadata": {},
   "source": [
    "First, let's take a look at our dataframe:"
   ]
  },
  {
   "cell_type": "code",
   "execution_count": 5,
   "id": "1c1059a1",
   "metadata": {},
   "outputs": [
    {
     "data": {
      "text/html": [
       "<div>\n",
       "<style scoped>\n",
       "    .dataframe tbody tr th:only-of-type {\n",
       "        vertical-align: middle;\n",
       "    }\n",
       "\n",
       "    .dataframe tbody tr th {\n",
       "        vertical-align: top;\n",
       "    }\n",
       "\n",
       "    .dataframe thead th {\n",
       "        text-align: right;\n",
       "    }\n",
       "</style>\n",
       "<table border=\"1\" class=\"dataframe\">\n",
       "  <thead>\n",
       "    <tr style=\"text-align: right;\">\n",
       "      <th></th>\n",
       "      <th>age</th>\n",
       "      <th>location</th>\n",
       "      <th>gender</th>\n",
       "      <th>credit_score</th>\n",
       "      <th>membership_length</th>\n",
       "      <th>balance</th>\n",
       "      <th>payment_method</th>\n",
       "      <th>num_products</th>\n",
       "      <th>has_broadband</th>\n",
       "      <th>has_tv</th>\n",
       "      <th>broadband_bundle</th>\n",
       "      <th>tv_bundle</th>\n",
       "      <th>num_support_calls</th>\n",
       "      <th>churn</th>\n",
       "    </tr>\n",
       "    <tr>\n",
       "      <th>customer_id</th>\n",
       "      <th></th>\n",
       "      <th></th>\n",
       "      <th></th>\n",
       "      <th></th>\n",
       "      <th></th>\n",
       "      <th></th>\n",
       "      <th></th>\n",
       "      <th></th>\n",
       "      <th></th>\n",
       "      <th></th>\n",
       "      <th></th>\n",
       "      <th></th>\n",
       "      <th></th>\n",
       "      <th></th>\n",
       "    </tr>\n",
       "  </thead>\n",
       "  <tbody>\n",
       "    <tr>\n",
       "      <th>71167</th>\n",
       "      <td>38.0</td>\n",
       "      <td>Leinster</td>\n",
       "      <td>Female</td>\n",
       "      <td>577</td>\n",
       "      <td>24</td>\n",
       "      <td>668.02</td>\n",
       "      <td>CreditCard</td>\n",
       "      <td>1</td>\n",
       "      <td>True</td>\n",
       "      <td>False</td>\n",
       "      <td>2GB</td>\n",
       "      <td>NaN</td>\n",
       "      <td>2</td>\n",
       "      <td>0</td>\n",
       "    </tr>\n",
       "    <tr>\n",
       "      <th>38777</th>\n",
       "      <td>27.0</td>\n",
       "      <td>Munster</td>\n",
       "      <td>Female</td>\n",
       "      <td>698</td>\n",
       "      <td>52</td>\n",
       "      <td>531.28</td>\n",
       "      <td>CreditCard</td>\n",
       "      <td>1</td>\n",
       "      <td>False</td>\n",
       "      <td>True</td>\n",
       "      <td>NaN</td>\n",
       "      <td>Basic</td>\n",
       "      <td>0</td>\n",
       "      <td>0</td>\n",
       "    </tr>\n",
       "    <tr>\n",
       "      <th>76011</th>\n",
       "      <td>35.0</td>\n",
       "      <td>Connacht</td>\n",
       "      <td>Male</td>\n",
       "      <td>739</td>\n",
       "      <td>25</td>\n",
       "      <td>0.00</td>\n",
       "      <td>DirectDebit</td>\n",
       "      <td>1</td>\n",
       "      <td>True</td>\n",
       "      <td>False</td>\n",
       "      <td>2GB</td>\n",
       "      <td>NaN</td>\n",
       "      <td>1</td>\n",
       "      <td>0</td>\n",
       "    </tr>\n",
       "    <tr>\n",
       "      <th>62859</th>\n",
       "      <td>38.0</td>\n",
       "      <td>Leinster</td>\n",
       "      <td>Male</td>\n",
       "      <td>628</td>\n",
       "      <td>39</td>\n",
       "      <td>530.97</td>\n",
       "      <td>DirectDebit</td>\n",
       "      <td>1</td>\n",
       "      <td>True</td>\n",
       "      <td>False</td>\n",
       "      <td>2GB</td>\n",
       "      <td>NaN</td>\n",
       "      <td>0</td>\n",
       "      <td>0</td>\n",
       "    </tr>\n",
       "    <tr>\n",
       "      <th>53782</th>\n",
       "      <td>29.0</td>\n",
       "      <td>Munster</td>\n",
       "      <td>female</td>\n",
       "      <td>557</td>\n",
       "      <td>49</td>\n",
       "      <td>561.10</td>\n",
       "      <td>DirectDebit</td>\n",
       "      <td>2</td>\n",
       "      <td>True</td>\n",
       "      <td>True</td>\n",
       "      <td>500Mbps</td>\n",
       "      <td>Basic</td>\n",
       "      <td>1</td>\n",
       "      <td>0</td>\n",
       "    </tr>\n",
       "    <tr>\n",
       "      <th>88770</th>\n",
       "      <td>31.0</td>\n",
       "      <td>Leinster</td>\n",
       "      <td>Male</td>\n",
       "      <td>570</td>\n",
       "      <td>86</td>\n",
       "      <td>0.00</td>\n",
       "      <td>DirectDebit</td>\n",
       "      <td>1</td>\n",
       "      <td>True</td>\n",
       "      <td>False</td>\n",
       "      <td>2GB</td>\n",
       "      <td>NaN</td>\n",
       "      <td>1</td>\n",
       "      <td>0</td>\n",
       "    </tr>\n",
       "    <tr>\n",
       "      <th>86120</th>\n",
       "      <td>37.0</td>\n",
       "      <td>Leinster</td>\n",
       "      <td>Female</td>\n",
       "      <td>851</td>\n",
       "      <td>23</td>\n",
       "      <td>0.00</td>\n",
       "      <td>DirectDebit</td>\n",
       "      <td>2</td>\n",
       "      <td>True</td>\n",
       "      <td>True</td>\n",
       "      <td>1GB</td>\n",
       "      <td>Basic</td>\n",
       "      <td>4</td>\n",
       "      <td>0</td>\n",
       "    </tr>\n",
       "    <tr>\n",
       "      <th>58270</th>\n",
       "      <td>28.0</td>\n",
       "      <td>Ulster</td>\n",
       "      <td>Male</td>\n",
       "      <td>684</td>\n",
       "      <td>24</td>\n",
       "      <td>0.00</td>\n",
       "      <td>DirectDebit</td>\n",
       "      <td>2</td>\n",
       "      <td>True</td>\n",
       "      <td>True</td>\n",
       "      <td>1GB</td>\n",
       "      <td>Basic</td>\n",
       "      <td>0</td>\n",
       "      <td>0</td>\n",
       "    </tr>\n",
       "    <tr>\n",
       "      <th>64696</th>\n",
       "      <td>42.0</td>\n",
       "      <td>Leinster</td>\n",
       "      <td>Female</td>\n",
       "      <td>550</td>\n",
       "      <td>93</td>\n",
       "      <td>262.75</td>\n",
       "      <td>DirectDebit</td>\n",
       "      <td>1</td>\n",
       "      <td>True</td>\n",
       "      <td>False</td>\n",
       "      <td>2GB</td>\n",
       "      <td>NaN</td>\n",
       "      <td>0</td>\n",
       "      <td>0</td>\n",
       "    </tr>\n",
       "    <tr>\n",
       "      <th>95258</th>\n",
       "      <td>39.0</td>\n",
       "      <td>Munster</td>\n",
       "      <td>Female</td>\n",
       "      <td>611</td>\n",
       "      <td>26</td>\n",
       "      <td>723.04</td>\n",
       "      <td>DirectDebit</td>\n",
       "      <td>1</td>\n",
       "      <td>True</td>\n",
       "      <td>False</td>\n",
       "      <td>1GB</td>\n",
       "      <td>NaN</td>\n",
       "      <td>0</td>\n",
       "      <td>0</td>\n",
       "    </tr>\n",
       "  </tbody>\n",
       "</table>\n",
       "</div>"
      ],
      "text/plain": [
       "              age  location  gender  credit_score  membership_length  balance  \\\n",
       "customer_id                                                                     \n",
       "71167        38.0  Leinster  Female           577                 24   668.02   \n",
       "38777        27.0   Munster  Female           698                 52   531.28   \n",
       "76011        35.0  Connacht    Male           739                 25     0.00   \n",
       "62859        38.0  Leinster    Male           628                 39   530.97   \n",
       "53782        29.0   Munster  female           557                 49   561.10   \n",
       "88770        31.0  Leinster    Male           570                 86     0.00   \n",
       "86120        37.0  Leinster  Female           851                 23     0.00   \n",
       "58270        28.0    Ulster    Male           684                 24     0.00   \n",
       "64696        42.0  Leinster  Female           550                 93   262.75   \n",
       "95258        39.0   Munster  Female           611                 26   723.04   \n",
       "\n",
       "            payment_method  num_products  has_broadband  has_tv  \\\n",
       "customer_id                                                       \n",
       "71167           CreditCard             1           True   False   \n",
       "38777           CreditCard             1          False    True   \n",
       "76011          DirectDebit             1           True   False   \n",
       "62859          DirectDebit             1           True   False   \n",
       "53782          DirectDebit             2           True    True   \n",
       "88770          DirectDebit             1           True   False   \n",
       "86120          DirectDebit             2           True    True   \n",
       "58270          DirectDebit             2           True    True   \n",
       "64696          DirectDebit             1           True   False   \n",
       "95258          DirectDebit             1           True   False   \n",
       "\n",
       "            broadband_bundle tv_bundle  num_support_calls  churn  \n",
       "customer_id                                                       \n",
       "71167                    2GB       NaN                  2      0  \n",
       "38777                    NaN     Basic                  0      0  \n",
       "76011                    2GB       NaN                  1      0  \n",
       "62859                    2GB       NaN                  0      0  \n",
       "53782                500Mbps     Basic                  1      0  \n",
       "88770                    2GB       NaN                  1      0  \n",
       "86120                    1GB     Basic                  4      0  \n",
       "58270                    1GB     Basic                  0      0  \n",
       "64696                    2GB       NaN                  0      0  \n",
       "95258                    1GB       NaN                  0      0  "
      ]
     },
     "execution_count": 5,
     "metadata": {},
     "output_type": "execute_result"
    }
   ],
   "source": [
    "df.head(10)"
   ]
  },
  {
   "cell_type": "code",
   "execution_count": 6,
   "id": "5bcd23ba",
   "metadata": {},
   "outputs": [
    {
     "data": {
      "text/plain": [
       "(1508, 14)"
      ]
     },
     "execution_count": 6,
     "metadata": {},
     "output_type": "execute_result"
    }
   ],
   "source": [
    "df.shape"
   ]
  },
  {
   "cell_type": "markdown",
   "id": "6bc91546",
   "metadata": {},
   "source": [
    "We have 1508 rows and 14 columns in our dataset."
   ]
  },
  {
   "cell_type": "markdown",
   "id": "2fe418bc",
   "metadata": {},
   "source": [
    "### Performing initial characterisation of dataset to identify data quality issues\n",
    "\n",
    "\n",
    "Possible Quality Issues:\n",
    "\n",
    "- Missing values - Filter out or fill in missing data.\n",
    "\n",
    "- Duplicate rows - Filter out identical rows as they do not provide any extra information, and should not be counted because some values must be unique (e.g. customer_id)\n",
    "\n",
    "- Erroneous/irregular values - Inconsistent representation of an attribute value (e.g. female, Female, F.) Normalising the data will ensure the data is consistent (and not redundant.)\n",
    "\n",
    "- Continuous values - Convert continuous numerical values into discrete intervals (binning). This will make the data easier to work with, and allow us to identify patterns within specific ranges of values. (Could do this with the features: age, credit score, membership length, balance)"
   ]
  },
  {
   "cell_type": "markdown",
   "id": "5ce815d5",
   "metadata": {},
   "source": [
    "### Data Quality Issues\n",
    "#### Missing values"
   ]
  },
  {
   "cell_type": "code",
   "execution_count": 7,
   "id": "b860288c",
   "metadata": {},
   "outputs": [
    {
     "data": {
      "text/plain": [
       "age                   18\n",
       "location               0\n",
       "gender                 0\n",
       "credit_score           0\n",
       "membership_length      0\n",
       "balance                0\n",
       "payment_method        26\n",
       "num_products           0\n",
       "has_broadband          0\n",
       "has_tv                 0\n",
       "broadband_bundle     400\n",
       "tv_bundle            494\n",
       "num_support_calls      0\n",
       "churn                  0\n",
       "dtype: int64"
      ]
     },
     "execution_count": 7,
     "metadata": {},
     "output_type": "execute_result"
    }
   ],
   "source": [
    "df.isna().sum()"
   ]
  },
  {
   "cell_type": "markdown",
   "id": "84763fbe",
   "metadata": {},
   "source": [
    "#### Data Quality Issue\n",
    "There are missing age and payment method values. \n",
    "\n",
    "A large portion of the dataset is also missing broadband_bundle or tv_bundle values, but we know that this is intentional since some customers don't have broadband or tv. \n",
    "\n",
    "Both of these issues will be dealt with later on."
   ]
  },
  {
   "cell_type": "markdown",
   "id": "4fe7f3f2",
   "metadata": {},
   "source": [
    "#### Duplicate rows"
   ]
  },
  {
   "cell_type": "code",
   "execution_count": 8,
   "id": "05772bc5",
   "metadata": {},
   "outputs": [
    {
     "data": {
      "text/plain": [
       "0"
      ]
     },
     "execution_count": 8,
     "metadata": {},
     "output_type": "execute_result"
    }
   ],
   "source": [
    "#Check number of duplicated rows\n",
    "df.duplicated().sum()"
   ]
  },
  {
   "cell_type": "markdown",
   "id": "3cc35824",
   "metadata": {},
   "source": [
    "No duplicated rows. No action required."
   ]
  },
  {
   "cell_type": "markdown",
   "id": "c7252d29",
   "metadata": {},
   "source": [
    "#### Check for irregular values\n",
    "\n",
    "First, I will check the set of different values for different attributes to see if there are any irregular values. I will only look at the categorical data here. \n",
    "\n",
    "Categorical Columns: \n",
    "- gender\n",
    "- location\n",
    "- payment_method \n",
    "- has_broadband \n",
    "- has_tv\n",
    "- broadband_bundle\n",
    "- tv_bundle"
   ]
  },
  {
   "cell_type": "code",
   "execution_count": 9,
   "id": "f50de357",
   "metadata": {},
   "outputs": [
    {
     "data": {
      "text/plain": [
       "Male      672\n",
       "Female    612\n",
       "female     90\n",
       "male       59\n",
       "F          42\n",
       "M          33\n",
       "Name: gender, dtype: int64"
      ]
     },
     "execution_count": 9,
     "metadata": {},
     "output_type": "execute_result"
    }
   ],
   "source": [
    "df[\"gender\"].value_counts()"
   ]
  },
  {
   "cell_type": "code",
   "execution_count": 10,
   "id": "93b6f21f",
   "metadata": {},
   "outputs": [
    {
     "data": {
      "text/plain": [
       "Leinster    538\n",
       "Munster     495\n",
       "Connacht    329\n",
       "Ulster      146\n",
       "Name: location, dtype: int64"
      ]
     },
     "execution_count": 10,
     "metadata": {},
     "output_type": "execute_result"
    }
   ],
   "source": [
    "df[\"location\"].value_counts()"
   ]
  },
  {
   "cell_type": "code",
   "execution_count": 11,
   "id": "bb340ac5",
   "metadata": {
    "scrolled": true
   },
   "outputs": [
    {
     "data": {
      "text/plain": [
       "DirectDebit    1015\n",
       "CreditCard      405\n",
       "CC               40\n",
       "DD               22\n",
       "Name: payment_method, dtype: int64"
      ]
     },
     "execution_count": 11,
     "metadata": {},
     "output_type": "execute_result"
    }
   ],
   "source": [
    "df[\"payment_method\"].value_counts()"
   ]
  },
  {
   "cell_type": "code",
   "execution_count": 12,
   "id": "ca765261",
   "metadata": {},
   "outputs": [
    {
     "data": {
      "text/plain": [
       "True     1108\n",
       "False     400\n",
       "Name: has_broadband, dtype: int64"
      ]
     },
     "execution_count": 12,
     "metadata": {},
     "output_type": "execute_result"
    }
   ],
   "source": [
    "df[\"has_broadband\"].value_counts()"
   ]
  },
  {
   "cell_type": "code",
   "execution_count": 13,
   "id": "80ca533e",
   "metadata": {},
   "outputs": [
    {
     "data": {
      "text/plain": [
       "True     1014\n",
       "False     494\n",
       "Name: has_tv, dtype: int64"
      ]
     },
     "execution_count": 13,
     "metadata": {},
     "output_type": "execute_result"
    }
   ],
   "source": [
    "df[\"has_tv\"].value_counts()"
   ]
  },
  {
   "cell_type": "code",
   "execution_count": 14,
   "id": "f590976e",
   "metadata": {},
   "outputs": [
    {
     "data": {
      "text/plain": [
       "1GB        389\n",
       "2GB        366\n",
       "500Mbps    353\n",
       "Name: broadband_bundle, dtype: int64"
      ]
     },
     "execution_count": 14,
     "metadata": {},
     "output_type": "execute_result"
    }
   ],
   "source": [
    "df[\"broadband_bundle\"].value_counts()"
   ]
  },
  {
   "cell_type": "code",
   "execution_count": 15,
   "id": "c59fbdd2",
   "metadata": {},
   "outputs": [
    {
     "data": {
      "text/plain": [
       "Premium    547\n",
       "Basic      467\n",
       "Name: tv_bundle, dtype: int64"
      ]
     },
     "execution_count": 15,
     "metadata": {},
     "output_type": "execute_result"
    }
   ],
   "source": [
    "df[\"tv_bundle\"].value_counts()"
   ]
  },
  {
   "cell_type": "markdown",
   "id": "d1674aae",
   "metadata": {},
   "source": [
    "##### Data Quality Issue\n",
    "We can see that two attributes have irregular values.\n",
    "\n",
    "1) gender:\n",
    "    - Male is also represented as male and M\n",
    "    - Female is also represented as female and F\n",
    "    \n",
    "    \n",
    "2) payment_method:\n",
    "\n",
    "    - DirectDebit is also represented as DD\n",
    "    \n",
    "    - CreditCard is also represented as CC\n",
    "    \n",
    "The rest of the attributes seem to have unique value representations."
   ]
  },
  {
   "cell_type": "markdown",
   "id": "56c10cf4",
   "metadata": {},
   "source": [
    "### Binning data\n",
    "\n",
    "Here I will take a look at continuous data, which is strictly numeric.\n",
    "\n",
    "Numeric Columns:\n",
    "- age\n",
    "- credit_score\n",
    "- membership_length\n",
    "- balance\n",
    "- num_products\n",
    "- num_support_calls\n",
    "- churn"
   ]
  },
  {
   "cell_type": "code",
   "execution_count": 16,
   "id": "e34bd06c",
   "metadata": {},
   "outputs": [
    {
     "data": {
      "text/plain": [
       "33.0    81\n",
       "32.0    75\n",
       "37.0    67\n",
       "35.0    57\n",
       "34.0    56\n",
       "        ..\n",
       "77.0     1\n",
       "69.0     1\n",
       "79.0     1\n",
       "72.0     1\n",
       "84.0     1\n",
       "Name: age, Length: 62, dtype: int64"
      ]
     },
     "execution_count": 16,
     "metadata": {},
     "output_type": "execute_result"
    }
   ],
   "source": [
    "df[\"age\"].value_counts()"
   ]
  },
  {
   "cell_type": "code",
   "execution_count": 17,
   "id": "a03daa0b",
   "metadata": {},
   "outputs": [
    {
     "data": {
      "text/plain": [
       "18.0"
      ]
     },
     "execution_count": 17,
     "metadata": {},
     "output_type": "execute_result"
    }
   ],
   "source": [
    "df[\"age\"].min()"
   ]
  },
  {
   "cell_type": "code",
   "execution_count": 18,
   "id": "c6e5afd3",
   "metadata": {},
   "outputs": [
    {
     "data": {
      "text/plain": [
       "84.0"
      ]
     },
     "execution_count": 18,
     "metadata": {},
     "output_type": "execute_result"
    }
   ],
   "source": [
    "df[\"age\"].max()"
   ]
  },
  {
   "cell_type": "markdown",
   "id": "956cca1e",
   "metadata": {},
   "source": [
    "The range of ages is 18-84, which is a valid range of age values."
   ]
  },
  {
   "cell_type": "code",
   "execution_count": 19,
   "id": "581c6e95",
   "metadata": {},
   "outputs": [
    {
     "data": {
      "text/plain": [
       "599    14\n",
       "618    10\n",
       "668    10\n",
       "698    10\n",
       "643    10\n",
       "       ..\n",
       "830     1\n",
       "568     1\n",
       "857     1\n",
       "689     1\n",
       "431     1\n",
       "Name: credit_score, Length: 435, dtype: int64"
      ]
     },
     "execution_count": 19,
     "metadata": {},
     "output_type": "execute_result"
    }
   ],
   "source": [
    "df[\"credit_score\"].value_counts()"
   ]
  },
  {
   "cell_type": "code",
   "execution_count": 20,
   "id": "55fc0452",
   "metadata": {},
   "outputs": [
    {
     "data": {
      "text/plain": [
       "300"
      ]
     },
     "execution_count": 20,
     "metadata": {},
     "output_type": "execute_result"
    }
   ],
   "source": [
    "df[\"credit_score\"].min()"
   ]
  },
  {
   "cell_type": "code",
   "execution_count": 21,
   "id": "eed0d851",
   "metadata": {},
   "outputs": [
    {
     "data": {
      "text/plain": [
       "890"
      ]
     },
     "execution_count": 21,
     "metadata": {},
     "output_type": "execute_result"
    }
   ],
   "source": [
    "df[\"credit_score\"].max()"
   ]
  },
  {
   "cell_type": "markdown",
   "id": "db9dba37",
   "metadata": {},
   "source": [
    "The range of credit scores is normal here too."
   ]
  },
  {
   "cell_type": "code",
   "execution_count": 22,
   "id": "655ac61b",
   "metadata": {},
   "outputs": [
    {
     "data": {
      "text/plain": [
       "1      189\n",
       "13      84\n",
       "12      79\n",
       "25      47\n",
       "23      43\n",
       "      ... \n",
       "122      1\n",
       "130      1\n",
       "124      1\n",
       "126      1\n",
       "125      1\n",
       "Name: membership_length, Length: 92, dtype: int64"
      ]
     },
     "execution_count": 22,
     "metadata": {},
     "output_type": "execute_result"
    }
   ],
   "source": [
    "df[\"membership_length\"].value_counts()"
   ]
  },
  {
   "cell_type": "code",
   "execution_count": 23,
   "id": "691671ae",
   "metadata": {},
   "outputs": [
    {
     "data": {
      "text/plain": [
       "1"
      ]
     },
     "execution_count": 23,
     "metadata": {},
     "output_type": "execute_result"
    }
   ],
   "source": [
    "df[\"membership_length\"].min()"
   ]
  },
  {
   "cell_type": "code",
   "execution_count": 24,
   "id": "a9e7b96c",
   "metadata": {},
   "outputs": [
    {
     "data": {
      "text/plain": [
       "130"
      ]
     },
     "execution_count": 24,
     "metadata": {},
     "output_type": "execute_result"
    }
   ],
   "source": [
    "df[\"membership_length\"].max()"
   ]
  },
  {
   "cell_type": "markdown",
   "id": "4280d405",
   "metadata": {},
   "source": [
    "The range of membership length is normal, as all values are positive and valid."
   ]
  },
  {
   "cell_type": "code",
   "execution_count": 25,
   "id": "edf82870",
   "metadata": {},
   "outputs": [
    {
     "data": {
      "text/plain": [
       " 0.00      496\n",
       "-1.00       14\n",
       " 571.50      2\n",
       " 537.16      2\n",
       " 419.89      2\n",
       "          ... \n",
       " 684.26      1\n",
       " 591.80      1\n",
       " 387.71      1\n",
       " 392.89      1\n",
       " 673.96      1\n",
       "Name: balance, Length: 988, dtype: int64"
      ]
     },
     "execution_count": 25,
     "metadata": {},
     "output_type": "execute_result"
    }
   ],
   "source": [
    "df[\"balance\"].value_counts()"
   ]
  },
  {
   "cell_type": "code",
   "execution_count": 26,
   "id": "dd9ddd40",
   "metadata": {},
   "outputs": [
    {
     "data": {
      "text/plain": [
       "-1.0"
      ]
     },
     "execution_count": 26,
     "metadata": {},
     "output_type": "execute_result"
    }
   ],
   "source": [
    "df[\"balance\"].min()"
   ]
  },
  {
   "cell_type": "code",
   "execution_count": 27,
   "id": "10da5014",
   "metadata": {},
   "outputs": [
    {
     "data": {
      "text/plain": [
       "1445.2625"
      ]
     },
     "execution_count": 27,
     "metadata": {},
     "output_type": "execute_result"
    }
   ],
   "source": [
    "df[\"balance\"].max()"
   ]
  },
  {
   "cell_type": "markdown",
   "id": "46d6c185",
   "metadata": {},
   "source": [
    "Balance should not be negative."
   ]
  },
  {
   "cell_type": "code",
   "execution_count": 28,
   "id": "11b1aa20",
   "metadata": {},
   "outputs": [
    {
     "data": {
      "text/plain": [
       "1    894\n",
       "2    544\n",
       "3     54\n",
       "4     16\n",
       "Name: num_products, dtype: int64"
      ]
     },
     "execution_count": 28,
     "metadata": {},
     "output_type": "execute_result"
    }
   ],
   "source": [
    "df[\"num_products\"].value_counts()"
   ]
  },
  {
   "cell_type": "markdown",
   "id": "94f4f14d",
   "metadata": {},
   "source": [
    "We can see the entire range of products here since there are only 4 values. \n",
    "\n",
    "All looks normal."
   ]
  },
  {
   "cell_type": "code",
   "execution_count": 29,
   "id": "70fab773",
   "metadata": {},
   "outputs": [
    {
     "data": {
      "text/plain": [
       " 0     715\n",
       " 1     296\n",
       " 2     166\n",
       " 3      81\n",
       " 4      66\n",
       " 5      50\n",
       " 7      45\n",
       " 6      44\n",
       " 8      23\n",
       " 9      12\n",
       " 10      8\n",
       "-1       2\n",
       "Name: num_support_calls, dtype: int64"
      ]
     },
     "execution_count": 29,
     "metadata": {},
     "output_type": "execute_result"
    }
   ],
   "source": [
    "df[\"num_support_calls\"].value_counts()"
   ]
  },
  {
   "cell_type": "markdown",
   "id": "2c51bd41",
   "metadata": {},
   "source": [
    "We can see the range of support calls here as well. \n",
    "\n",
    "-1 is not a valid value."
   ]
  },
  {
   "cell_type": "code",
   "execution_count": 30,
   "id": "73421544",
   "metadata": {},
   "outputs": [
    {
     "data": {
      "text/plain": [
       "0    905\n",
       "1    603\n",
       "Name: churn, dtype: int64"
      ]
     },
     "execution_count": 30,
     "metadata": {},
     "output_type": "execute_result"
    }
   ],
   "source": [
    "df[\"churn\"].value_counts()"
   ]
  },
  {
   "cell_type": "markdown",
   "id": "de275971",
   "metadata": {},
   "source": [
    "#### Data Quality Issue\n",
    "\n",
    "The fields age, credit_score, membership_length, balance have over 50 different possible values, with some attributes in the 100s of values. \n",
    "\n",
    "These are too many values to look at individually, so I would like to bin these fields over a discrete number of intervals.\n",
    "    \n",
    "#### Data Quality Issue\n",
    "There are negative values in some fields. Notably, -1 in the balance and the number of support calls. \n",
    "\n",
    "These values should not be negative, so there are some errors here."
   ]
  },
  {
   "cell_type": "markdown",
   "id": "1c8ab785",
   "metadata": {},
   "source": [
    "## Apply data preprocessing steps to address all identified data quality issues\n",
    "\n",
    "We will look at all the issues above and solve them."
   ]
  },
  {
   "cell_type": "markdown",
   "id": "3141473f",
   "metadata": {},
   "source": [
    "### Fixing Issue - Missing Values"
   ]
  },
  {
   "cell_type": "markdown",
   "id": "3d101405",
   "metadata": {},
   "source": [
    "We know from the previous section that some age and payment method values are missing.\n",
    "\n",
    "I would like to check the percentage of customers with such unknown values. \n",
    "\n",
    "If the number is very low, we can delete those customer entries from our dataset, since they would not affect the data analysis."
   ]
  },
  {
   "cell_type": "code",
   "execution_count": 492,
   "id": "3f2c1be0",
   "metadata": {},
   "outputs": [
    {
     "name": "stdout",
     "output_type": "stream",
     "text": [
      "Percentage of customers with unknown age: 0.012 %\n"
     ]
    }
   ],
   "source": [
    "rows = df.shape[0]\n",
    "print(\"Percentage of customers with unknown age: %.3f %%\" % ((df[\"age\"].isna().sum()) / rows))"
   ]
  },
  {
   "cell_type": "code",
   "execution_count": 493,
   "id": "80b8f237",
   "metadata": {},
   "outputs": [
    {
     "name": "stdout",
     "output_type": "stream",
     "text": [
      "Percentage of customers with unknown payment method: 0.017 %\n"
     ]
    }
   ],
   "source": [
    "# We can also do the same for payment method\n",
    "print(\"Percentage of customers with unknown payment method: %.3f %%\" % ((df[\"payment_method\"].isna().sum()) / rows))"
   ]
  },
  {
   "cell_type": "markdown",
   "id": "1a495fde",
   "metadata": {},
   "source": [
    "This is a very small percentage of our dataset, about 0.029% combined, which is negligible.\n",
    "\n",
    "So, I will simply filter out the rows with missing age and payment method values."
   ]
  },
  {
   "cell_type": "code",
   "execution_count": 494,
   "id": "8f93625d",
   "metadata": {},
   "outputs": [
    {
     "data": {
      "text/plain": [
       "(1464, 14)"
      ]
     },
     "execution_count": 494,
     "metadata": {},
     "output_type": "execute_result"
    }
   ],
   "source": [
    "df = df.dropna(subset=[\"age\", \"payment_method\"])\n",
    "\n",
    "df.shape"
   ]
  },
  {
   "cell_type": "code",
   "execution_count": 495,
   "id": "495b9ee2",
   "metadata": {},
   "outputs": [
    {
     "data": {
      "text/plain": [
       "age                    0\n",
       "location               0\n",
       "gender                 0\n",
       "credit_score           0\n",
       "membership_length      0\n",
       "balance                0\n",
       "payment_method         0\n",
       "num_products           0\n",
       "has_broadband          0\n",
       "has_tv                 0\n",
       "broadband_bundle     393\n",
       "tv_bundle            483\n",
       "num_support_calls      0\n",
       "churn                  0\n",
       "dtype: int64"
      ]
     },
     "execution_count": 495,
     "metadata": {},
     "output_type": "execute_result"
    }
   ],
   "source": [
    "df.isna().sum()"
   ]
  },
  {
   "cell_type": "markdown",
   "id": "84ee7684",
   "metadata": {},
   "source": [
    "In deleting the missing values, our dataset reduced from 1508 rows to 1464 rows. We have deleted 44 rows.\n",
    "\n",
    "Now the only missing values left are in broadband_bundle and tv_bundle, but we cannot delete those as they account for a large percentage of the dataset. We will deal with them later."
   ]
  },
  {
   "cell_type": "markdown",
   "id": "3ccdcae1",
   "metadata": {},
   "source": [
    "### Fixing Issue  - Irregular/Redundant values in \"gender\" and \"payment_method\"\n",
    "\n",
    "I will fix this by mapping such redundant values to one constant value:\n",
    "\n",
    "- Mapping male and M to Male\n",
    "\n",
    "- Mapping female and F to Female\n",
    "\n",
    "- Mapping DD to DirectDebit \n",
    "\n",
    "- Mapping CC to CreditCard"
   ]
  },
  {
   "cell_type": "code",
   "execution_count": 496,
   "id": "aca1bd95",
   "metadata": {},
   "outputs": [],
   "source": [
    "#Normalise different representations for the same value\n",
    "\n",
    "mapgender = {\"male\": \"Male\", \"M\": \"Male\", \"female\":\"Female\", \"F\":\"Female\"}\n",
    "mappayment = {\"DD\": \"DirectDebit\", \"CC\": \"CreditCard\"}\n",
    "\n",
    "df[\"gender\"] = df[\"gender\"].replace(mapgender)\n",
    "df[\"payment_method\"] = df[\"payment_method\"].replace(mappayment)"
   ]
  },
  {
   "cell_type": "code",
   "execution_count": 497,
   "id": "97775855",
   "metadata": {},
   "outputs": [
    {
     "data": {
      "text/plain": [
       "Male      742\n",
       "Female    722\n",
       "Name: gender, dtype: int64"
      ]
     },
     "execution_count": 497,
     "metadata": {},
     "output_type": "execute_result"
    }
   ],
   "source": [
    "#Check values\n",
    "df[\"gender\"].value_counts()"
   ]
  },
  {
   "cell_type": "code",
   "execution_count": 498,
   "id": "8924d910",
   "metadata": {},
   "outputs": [
    {
     "data": {
      "text/plain": [
       "DirectDebit    1023\n",
       "CreditCard      441\n",
       "Name: payment_method, dtype: int64"
      ]
     },
     "execution_count": 498,
     "metadata": {},
     "output_type": "execute_result"
    }
   ],
   "source": [
    "df[\"payment_method\"].value_counts()"
   ]
  },
  {
   "cell_type": "markdown",
   "id": "2ef128e4",
   "metadata": {},
   "source": [
    "The issue is fixed as there are no irregular/redundant values and all values are normalised."
   ]
  },
  {
   "cell_type": "markdown",
   "id": "c448b2ff",
   "metadata": {},
   "source": [
    "### Fixing Issue - Negative values in \"balance\" and \"num support calls\" "
   ]
  },
  {
   "cell_type": "markdown",
   "id": "2beae4a4",
   "metadata": {},
   "source": [
    "Let's check the negative values in the dataframe."
   ]
  },
  {
   "cell_type": "code",
   "execution_count": 499,
   "id": "a1058e0b",
   "metadata": {},
   "outputs": [
    {
     "data": {
      "text/html": [
       "<div>\n",
       "<style scoped>\n",
       "    .dataframe tbody tr th:only-of-type {\n",
       "        vertical-align: middle;\n",
       "    }\n",
       "\n",
       "    .dataframe tbody tr th {\n",
       "        vertical-align: top;\n",
       "    }\n",
       "\n",
       "    .dataframe thead th {\n",
       "        text-align: right;\n",
       "    }\n",
       "</style>\n",
       "<table border=\"1\" class=\"dataframe\">\n",
       "  <thead>\n",
       "    <tr style=\"text-align: right;\">\n",
       "      <th></th>\n",
       "      <th>age</th>\n",
       "      <th>location</th>\n",
       "      <th>gender</th>\n",
       "      <th>credit_score</th>\n",
       "      <th>membership_length</th>\n",
       "      <th>balance</th>\n",
       "      <th>payment_method</th>\n",
       "      <th>num_products</th>\n",
       "      <th>has_broadband</th>\n",
       "      <th>has_tv</th>\n",
       "      <th>broadband_bundle</th>\n",
       "      <th>tv_bundle</th>\n",
       "      <th>num_support_calls</th>\n",
       "      <th>churn</th>\n",
       "    </tr>\n",
       "    <tr>\n",
       "      <th>customer_id</th>\n",
       "      <th></th>\n",
       "      <th></th>\n",
       "      <th></th>\n",
       "      <th></th>\n",
       "      <th></th>\n",
       "      <th></th>\n",
       "      <th></th>\n",
       "      <th></th>\n",
       "      <th></th>\n",
       "      <th></th>\n",
       "      <th></th>\n",
       "      <th></th>\n",
       "      <th></th>\n",
       "      <th></th>\n",
       "    </tr>\n",
       "  </thead>\n",
       "  <tbody>\n",
       "    <tr>\n",
       "      <th>41385</th>\n",
       "      <td>39.0</td>\n",
       "      <td>Connacht</td>\n",
       "      <td>Female</td>\n",
       "      <td>669</td>\n",
       "      <td>39</td>\n",
       "      <td>428.87</td>\n",
       "      <td>DirectDebit</td>\n",
       "      <td>2</td>\n",
       "      <td>True</td>\n",
       "      <td>True</td>\n",
       "      <td>500Mbps</td>\n",
       "      <td>Basic</td>\n",
       "      <td>-1</td>\n",
       "      <td>0</td>\n",
       "    </tr>\n",
       "    <tr>\n",
       "      <th>83015</th>\n",
       "      <td>40.0</td>\n",
       "      <td>Leinster</td>\n",
       "      <td>Male</td>\n",
       "      <td>502</td>\n",
       "      <td>48</td>\n",
       "      <td>424.04</td>\n",
       "      <td>DirectDebit</td>\n",
       "      <td>1</td>\n",
       "      <td>True</td>\n",
       "      <td>False</td>\n",
       "      <td>1GB</td>\n",
       "      <td>NaN</td>\n",
       "      <td>-1</td>\n",
       "      <td>1</td>\n",
       "    </tr>\n",
       "  </tbody>\n",
       "</table>\n",
       "</div>"
      ],
      "text/plain": [
       "              age  location  gender  credit_score  membership_length  balance  \\\n",
       "customer_id                                                                     \n",
       "41385        39.0  Connacht  Female           669                 39   428.87   \n",
       "83015        40.0  Leinster    Male           502                 48   424.04   \n",
       "\n",
       "            payment_method  num_products  has_broadband  has_tv  \\\n",
       "customer_id                                                       \n",
       "41385          DirectDebit             2           True    True   \n",
       "83015          DirectDebit             1           True   False   \n",
       "\n",
       "            broadband_bundle tv_bundle  num_support_calls  churn  \n",
       "customer_id                                                       \n",
       "41385                500Mbps     Basic                 -1      0  \n",
       "83015                    1GB       NaN                 -1      1  "
      ]
     },
     "execution_count": 499,
     "metadata": {},
     "output_type": "execute_result"
    }
   ],
   "source": [
    "### Fixing Issue - Negative Erroneous Values\n",
    "df[df[\"num_support_calls\"] < 0]"
   ]
  },
  {
   "cell_type": "markdown",
   "id": "01eaa0ad",
   "metadata": {},
   "source": [
    "There are only 2 entries with such values in the num_support_calls column.\n",
    "\n",
    "I will assume that whoever collected the data made a mistake and typed -1 instead of 1. \n",
    "\n",
    "So, I will change these values to 1."
   ]
  },
  {
   "cell_type": "code",
   "execution_count": 500,
   "id": "91cf75c2",
   "metadata": {},
   "outputs": [],
   "source": [
    "negativemap = {-1 : 1}\n",
    "df[\"num_support_calls\"] = df[\"num_support_calls\"].replace(negativemap)"
   ]
  },
  {
   "cell_type": "code",
   "execution_count": 501,
   "id": "919af540",
   "metadata": {},
   "outputs": [
    {
     "data": {
      "text/html": [
       "<div>\n",
       "<style scoped>\n",
       "    .dataframe tbody tr th:only-of-type {\n",
       "        vertical-align: middle;\n",
       "    }\n",
       "\n",
       "    .dataframe tbody tr th {\n",
       "        vertical-align: top;\n",
       "    }\n",
       "\n",
       "    .dataframe thead th {\n",
       "        text-align: right;\n",
       "    }\n",
       "</style>\n",
       "<table border=\"1\" class=\"dataframe\">\n",
       "  <thead>\n",
       "    <tr style=\"text-align: right;\">\n",
       "      <th></th>\n",
       "      <th>age</th>\n",
       "      <th>location</th>\n",
       "      <th>gender</th>\n",
       "      <th>credit_score</th>\n",
       "      <th>membership_length</th>\n",
       "      <th>balance</th>\n",
       "      <th>payment_method</th>\n",
       "      <th>num_products</th>\n",
       "      <th>has_broadband</th>\n",
       "      <th>has_tv</th>\n",
       "      <th>broadband_bundle</th>\n",
       "      <th>tv_bundle</th>\n",
       "      <th>num_support_calls</th>\n",
       "      <th>churn</th>\n",
       "    </tr>\n",
       "    <tr>\n",
       "      <th>customer_id</th>\n",
       "      <th></th>\n",
       "      <th></th>\n",
       "      <th></th>\n",
       "      <th></th>\n",
       "      <th></th>\n",
       "      <th></th>\n",
       "      <th></th>\n",
       "      <th></th>\n",
       "      <th></th>\n",
       "      <th></th>\n",
       "      <th></th>\n",
       "      <th></th>\n",
       "      <th></th>\n",
       "      <th></th>\n",
       "    </tr>\n",
       "  </thead>\n",
       "  <tbody>\n",
       "  </tbody>\n",
       "</table>\n",
       "</div>"
      ],
      "text/plain": [
       "Empty DataFrame\n",
       "Columns: [age, location, gender, credit_score, membership_length, balance, payment_method, num_products, has_broadband, has_tv, broadband_bundle, tv_bundle, num_support_calls, churn]\n",
       "Index: []"
      ]
     },
     "execution_count": 501,
     "metadata": {},
     "output_type": "execute_result"
    }
   ],
   "source": [
    "df[df[\"num_support_calls\"] < 0]"
   ]
  },
  {
   "cell_type": "markdown",
   "id": "d04012bc",
   "metadata": {},
   "source": [
    "I will do the same for balance:"
   ]
  },
  {
   "cell_type": "code",
   "execution_count": 502,
   "id": "dd7a25ca",
   "metadata": {},
   "outputs": [
    {
     "data": {
      "text/plain": [
       "-1.0    13\n",
       "Name: balance, dtype: int64"
      ]
     },
     "execution_count": 502,
     "metadata": {},
     "output_type": "execute_result"
    }
   ],
   "source": [
    "df[df[\"balance\"] < 0][\"balance\"].value_counts()"
   ]
  },
  {
   "cell_type": "markdown",
   "id": "7ce6ef4a",
   "metadata": {},
   "source": [
    "There are 13 negative values for balance, all with the value -1."
   ]
  },
  {
   "cell_type": "markdown",
   "id": "ccba34f6",
   "metadata": {},
   "source": [
    "I will once again assume it was a mistake, and set it to 1 instead."
   ]
  },
  {
   "cell_type": "code",
   "execution_count": 503,
   "id": "f46bae74",
   "metadata": {},
   "outputs": [],
   "source": [
    "df[\"balance\"] = df[\"balance\"].replace(negativemap)"
   ]
  },
  {
   "cell_type": "code",
   "execution_count": 504,
   "id": "1da6d447",
   "metadata": {},
   "outputs": [
    {
     "data": {
      "text/plain": [
       "(0, 14)"
      ]
     },
     "execution_count": 504,
     "metadata": {},
     "output_type": "execute_result"
    }
   ],
   "source": [
    "df[df[\"balance\"] < 0].shape"
   ]
  },
  {
   "cell_type": "markdown",
   "id": "b1ab962c",
   "metadata": {},
   "source": [
    "All the negative values have been removed."
   ]
  },
  {
   "cell_type": "markdown",
   "id": "c300e4d9",
   "metadata": {},
   "source": [
    "### Fixing Issue - Missing values in \"broadband_bundle\" and \"tv_bundle\"\n",
    "\n",
    "In the cases where a customer does not have broadband (or a tv), the column broadband_bundle (or tv_bundle) is blank. \n",
    "\n",
    "I will change this to \"N/A\" to signify that the column is not applicable to that customer.\n",
    "\n",
    "As can be seen below, there are 393 rows with blank broadband bundles, and 483 blank rows with blank tv bundles."
   ]
  },
  {
   "cell_type": "code",
   "execution_count": 505,
   "id": "ea62a382",
   "metadata": {},
   "outputs": [
    {
     "data": {
      "text/plain": [
       "393"
      ]
     },
     "execution_count": 505,
     "metadata": {},
     "output_type": "execute_result"
    }
   ],
   "source": [
    "df[\"broadband_bundle\"].isna().sum()"
   ]
  },
  {
   "cell_type": "code",
   "execution_count": 506,
   "id": "1507fec6",
   "metadata": {},
   "outputs": [
    {
     "data": {
      "text/plain": [
       "483"
      ]
     },
     "execution_count": 506,
     "metadata": {},
     "output_type": "execute_result"
    }
   ],
   "source": [
    "df[\"tv_bundle\"].isna().sum()"
   ]
  },
  {
   "cell_type": "code",
   "execution_count": 507,
   "id": "4d7d8648",
   "metadata": {},
   "outputs": [],
   "source": [
    "df = df.fillna(\"N/A\")"
   ]
  },
  {
   "cell_type": "code",
   "execution_count": 508,
   "id": "140c4754",
   "metadata": {},
   "outputs": [
    {
     "data": {
      "text/plain": [
       "age                  0\n",
       "location             0\n",
       "gender               0\n",
       "credit_score         0\n",
       "membership_length    0\n",
       "balance              0\n",
       "payment_method       0\n",
       "num_products         0\n",
       "has_broadband        0\n",
       "has_tv               0\n",
       "broadband_bundle     0\n",
       "tv_bundle            0\n",
       "num_support_calls    0\n",
       "churn                0\n",
       "dtype: int64"
      ]
     },
     "execution_count": 508,
     "metadata": {},
     "output_type": "execute_result"
    }
   ],
   "source": [
    "df.isna().sum()"
   ]
  },
  {
   "cell_type": "markdown",
   "id": "39ba1783",
   "metadata": {},
   "source": [
    "Now there are 0 rows with blank values for these columns. And, there are no missing values anywhere in the dataset."
   ]
  },
  {
   "cell_type": "markdown",
   "id": "bed5fc5a",
   "metadata": {},
   "source": [
    "### Fixing Issue - Binning Continuous Values\n",
    "\n",
    "The fields age, credit_score, membership_length, balance will be binned to make them easier to analyse. \n",
    "\n",
    "I will keep the original unbinned columns too for easier graphing."
   ]
  },
  {
   "cell_type": "code",
   "execution_count": 509,
   "id": "f664d0a4",
   "metadata": {},
   "outputs": [
    {
     "data": {
      "text/plain": [
       "count    1464.000000\n",
       "mean       39.472678\n",
       "std        10.694123\n",
       "min        18.000000\n",
       "25%        32.000000\n",
       "50%        38.000000\n",
       "75%        46.000000\n",
       "max        84.000000\n",
       "Name: age, dtype: float64"
      ]
     },
     "execution_count": 509,
     "metadata": {},
     "output_type": "execute_result"
    }
   ],
   "source": [
    "#Check minimum and maximum values to find range of bins\n",
    "df[\"age\"].describe()"
   ]
  },
  {
   "cell_type": "markdown",
   "id": "6127ead4",
   "metadata": {},
   "source": [
    "We can see that the minimum age is 18 and the maximum age is 84, so the bins will be in the range 10-90."
   ]
  },
  {
   "cell_type": "code",
   "execution_count": 510,
   "id": "ad004ac4",
   "metadata": {},
   "outputs": [],
   "source": [
    "#Age range is 18-84 so bins will be 10-90\n",
    "bins = [10, 20, 30, 40, 50, 60, 70, 80, 90]\n",
    "df[\"age_bracket\"] = pd.cut(df[\"age\"], bins=bins)"
   ]
  },
  {
   "cell_type": "markdown",
   "id": "7cb111dc",
   "metadata": {},
   "source": [
    "I will do the same for credit_score, membership_length, balance."
   ]
  },
  {
   "cell_type": "code",
   "execution_count": 511,
   "id": "0b2cb25e",
   "metadata": {},
   "outputs": [
    {
     "data": {
      "text/plain": [
       "count    1464.000000\n",
       "mean      627.435109\n",
       "std       106.158491\n",
       "min       300.000000\n",
       "25%       554.750000\n",
       "50%       627.500000\n",
       "75%       704.000000\n",
       "max       890.000000\n",
       "Name: credit_score, dtype: float64"
      ]
     },
     "execution_count": 511,
     "metadata": {},
     "output_type": "execute_result"
    }
   ],
   "source": [
    "df[\"credit_score\"].describe()"
   ]
  },
  {
   "cell_type": "code",
   "execution_count": 512,
   "id": "133ba2ea",
   "metadata": {},
   "outputs": [],
   "source": [
    "#Credit score range is 300-890 so bins will be 200-900\n",
    "bins = [200, 300, 400, 500, 600, 700, 800, 900]\n",
    "df[\"credit_score_bracket\"] = pd.cut(df[\"credit_score\"], bins=bins)"
   ]
  },
  {
   "cell_type": "code",
   "execution_count": 513,
   "id": "b1f8c8e2",
   "metadata": {},
   "outputs": [
    {
     "data": {
      "text/plain": [
       "count    1464.000000\n",
       "mean       50.720628\n",
       "std        34.686515\n",
       "min         1.000000\n",
       "25%        23.000000\n",
       "50%        50.000000\n",
       "75%        78.000000\n",
       "max       130.000000\n",
       "Name: membership_length, dtype: float64"
      ]
     },
     "execution_count": 513,
     "metadata": {},
     "output_type": "execute_result"
    }
   ],
   "source": [
    "df[\"membership_length\"].describe()"
   ]
  },
  {
   "cell_type": "code",
   "execution_count": 514,
   "id": "603f7fc3",
   "metadata": {},
   "outputs": [],
   "source": [
    "#Membership length range is 1-130 so bins will be 1-150\n",
    "bins = [1, 30, 60, 90, 120, 150]\n",
    "df[\"membership_length_bracket\"] = pd.cut(df[\"membership_length\"], bins=bins, include_lowest=True)"
   ]
  },
  {
   "cell_type": "code",
   "execution_count": 515,
   "id": "85ca4707",
   "metadata": {},
   "outputs": [
    {
     "data": {
      "text/plain": [
       "count    1464.000000\n",
       "mean      395.382360\n",
       "std       314.099824\n",
       "min         0.000000\n",
       "25%         0.000000\n",
       "50%       483.020000\n",
       "75%       644.390000\n",
       "max      1445.262500\n",
       "Name: balance, dtype: float64"
      ]
     },
     "execution_count": 515,
     "metadata": {},
     "output_type": "execute_result"
    }
   ],
   "source": [
    "df[\"balance\"].describe()"
   ]
  },
  {
   "cell_type": "code",
   "execution_count": 516,
   "id": "e143a986",
   "metadata": {},
   "outputs": [],
   "source": [
    "#Balance range is -1-1445 so bins will be 0-1500\n",
    "bins = [0, 300, 600, 900, 1200, 1500]\n",
    "df[\"balance_bracket\"] = pd.cut(df[\"balance\"], bins=bins, include_lowest=True)"
   ]
  },
  {
   "cell_type": "code",
   "execution_count": 517,
   "id": "7318f4cc",
   "metadata": {},
   "outputs": [
    {
     "data": {
      "text/html": [
       "<div>\n",
       "<style scoped>\n",
       "    .dataframe tbody tr th:only-of-type {\n",
       "        vertical-align: middle;\n",
       "    }\n",
       "\n",
       "    .dataframe tbody tr th {\n",
       "        vertical-align: top;\n",
       "    }\n",
       "\n",
       "    .dataframe thead th {\n",
       "        text-align: right;\n",
       "    }\n",
       "</style>\n",
       "<table border=\"1\" class=\"dataframe\">\n",
       "  <thead>\n",
       "    <tr style=\"text-align: right;\">\n",
       "      <th></th>\n",
       "      <th>age</th>\n",
       "      <th>location</th>\n",
       "      <th>gender</th>\n",
       "      <th>credit_score</th>\n",
       "      <th>membership_length</th>\n",
       "      <th>balance</th>\n",
       "      <th>payment_method</th>\n",
       "      <th>num_products</th>\n",
       "      <th>has_broadband</th>\n",
       "      <th>has_tv</th>\n",
       "      <th>broadband_bundle</th>\n",
       "      <th>tv_bundle</th>\n",
       "      <th>num_support_calls</th>\n",
       "      <th>churn</th>\n",
       "      <th>age_bracket</th>\n",
       "      <th>credit_score_bracket</th>\n",
       "      <th>membership_length_bracket</th>\n",
       "      <th>balance_bracket</th>\n",
       "    </tr>\n",
       "    <tr>\n",
       "      <th>customer_id</th>\n",
       "      <th></th>\n",
       "      <th></th>\n",
       "      <th></th>\n",
       "      <th></th>\n",
       "      <th></th>\n",
       "      <th></th>\n",
       "      <th></th>\n",
       "      <th></th>\n",
       "      <th></th>\n",
       "      <th></th>\n",
       "      <th></th>\n",
       "      <th></th>\n",
       "      <th></th>\n",
       "      <th></th>\n",
       "      <th></th>\n",
       "      <th></th>\n",
       "      <th></th>\n",
       "      <th></th>\n",
       "    </tr>\n",
       "  </thead>\n",
       "  <tbody>\n",
       "    <tr>\n",
       "      <th>71167</th>\n",
       "      <td>38.0</td>\n",
       "      <td>Leinster</td>\n",
       "      <td>Female</td>\n",
       "      <td>577</td>\n",
       "      <td>24</td>\n",
       "      <td>668.02</td>\n",
       "      <td>CreditCard</td>\n",
       "      <td>1</td>\n",
       "      <td>True</td>\n",
       "      <td>False</td>\n",
       "      <td>2GB</td>\n",
       "      <td>N/A</td>\n",
       "      <td>2</td>\n",
       "      <td>0</td>\n",
       "      <td>(30, 40]</td>\n",
       "      <td>(500, 600]</td>\n",
       "      <td>(0.999, 30.0]</td>\n",
       "      <td>(600.0, 900.0]</td>\n",
       "    </tr>\n",
       "    <tr>\n",
       "      <th>38777</th>\n",
       "      <td>27.0</td>\n",
       "      <td>Munster</td>\n",
       "      <td>Female</td>\n",
       "      <td>698</td>\n",
       "      <td>52</td>\n",
       "      <td>531.28</td>\n",
       "      <td>CreditCard</td>\n",
       "      <td>1</td>\n",
       "      <td>False</td>\n",
       "      <td>True</td>\n",
       "      <td>N/A</td>\n",
       "      <td>Basic</td>\n",
       "      <td>0</td>\n",
       "      <td>0</td>\n",
       "      <td>(20, 30]</td>\n",
       "      <td>(600, 700]</td>\n",
       "      <td>(30.0, 60.0]</td>\n",
       "      <td>(300.0, 600.0]</td>\n",
       "    </tr>\n",
       "    <tr>\n",
       "      <th>76011</th>\n",
       "      <td>35.0</td>\n",
       "      <td>Connacht</td>\n",
       "      <td>Male</td>\n",
       "      <td>739</td>\n",
       "      <td>25</td>\n",
       "      <td>0.00</td>\n",
       "      <td>DirectDebit</td>\n",
       "      <td>1</td>\n",
       "      <td>True</td>\n",
       "      <td>False</td>\n",
       "      <td>2GB</td>\n",
       "      <td>N/A</td>\n",
       "      <td>1</td>\n",
       "      <td>0</td>\n",
       "      <td>(30, 40]</td>\n",
       "      <td>(700, 800]</td>\n",
       "      <td>(0.999, 30.0]</td>\n",
       "      <td>(-0.001, 300.0]</td>\n",
       "    </tr>\n",
       "    <tr>\n",
       "      <th>62859</th>\n",
       "      <td>38.0</td>\n",
       "      <td>Leinster</td>\n",
       "      <td>Male</td>\n",
       "      <td>628</td>\n",
       "      <td>39</td>\n",
       "      <td>530.97</td>\n",
       "      <td>DirectDebit</td>\n",
       "      <td>1</td>\n",
       "      <td>True</td>\n",
       "      <td>False</td>\n",
       "      <td>2GB</td>\n",
       "      <td>N/A</td>\n",
       "      <td>0</td>\n",
       "      <td>0</td>\n",
       "      <td>(30, 40]</td>\n",
       "      <td>(600, 700]</td>\n",
       "      <td>(30.0, 60.0]</td>\n",
       "      <td>(300.0, 600.0]</td>\n",
       "    </tr>\n",
       "    <tr>\n",
       "      <th>53782</th>\n",
       "      <td>29.0</td>\n",
       "      <td>Munster</td>\n",
       "      <td>Female</td>\n",
       "      <td>557</td>\n",
       "      <td>49</td>\n",
       "      <td>561.10</td>\n",
       "      <td>DirectDebit</td>\n",
       "      <td>2</td>\n",
       "      <td>True</td>\n",
       "      <td>True</td>\n",
       "      <td>500Mbps</td>\n",
       "      <td>Basic</td>\n",
       "      <td>1</td>\n",
       "      <td>0</td>\n",
       "      <td>(20, 30]</td>\n",
       "      <td>(500, 600]</td>\n",
       "      <td>(30.0, 60.0]</td>\n",
       "      <td>(300.0, 600.0]</td>\n",
       "    </tr>\n",
       "  </tbody>\n",
       "</table>\n",
       "</div>"
      ],
      "text/plain": [
       "              age  location  gender  credit_score  membership_length  balance  \\\n",
       "customer_id                                                                     \n",
       "71167        38.0  Leinster  Female           577                 24   668.02   \n",
       "38777        27.0   Munster  Female           698                 52   531.28   \n",
       "76011        35.0  Connacht    Male           739                 25     0.00   \n",
       "62859        38.0  Leinster    Male           628                 39   530.97   \n",
       "53782        29.0   Munster  Female           557                 49   561.10   \n",
       "\n",
       "            payment_method  num_products  has_broadband  has_tv  \\\n",
       "customer_id                                                       \n",
       "71167           CreditCard             1           True   False   \n",
       "38777           CreditCard             1          False    True   \n",
       "76011          DirectDebit             1           True   False   \n",
       "62859          DirectDebit             1           True   False   \n",
       "53782          DirectDebit             2           True    True   \n",
       "\n",
       "            broadband_bundle tv_bundle  num_support_calls  churn age_bracket  \\\n",
       "customer_id                                                                    \n",
       "71167                    2GB       N/A                  2      0    (30, 40]   \n",
       "38777                    N/A     Basic                  0      0    (20, 30]   \n",
       "76011                    2GB       N/A                  1      0    (30, 40]   \n",
       "62859                    2GB       N/A                  0      0    (30, 40]   \n",
       "53782                500Mbps     Basic                  1      0    (20, 30]   \n",
       "\n",
       "            credit_score_bracket membership_length_bracket  balance_bracket  \n",
       "customer_id                                                                  \n",
       "71167                 (500, 600]             (0.999, 30.0]   (600.0, 900.0]  \n",
       "38777                 (600, 700]              (30.0, 60.0]   (300.0, 600.0]  \n",
       "76011                 (700, 800]             (0.999, 30.0]  (-0.001, 300.0]  \n",
       "62859                 (600, 700]              (30.0, 60.0]   (300.0, 600.0]  \n",
       "53782                 (500, 600]              (30.0, 60.0]   (300.0, 600.0]  "
      ]
     },
     "execution_count": 517,
     "metadata": {},
     "output_type": "execute_result"
    }
   ],
   "source": [
    "df.head(5)"
   ]
  },
  {
   "cell_type": "markdown",
   "id": "5268f6fa",
   "metadata": {},
   "source": [
    "And with that, we can wrap up the data preprocessing section. \n",
    "\n",
    "I believe the dataframe has clean enough data now to perform data analysis in task 2."
   ]
  },
  {
   "cell_type": "markdown",
   "id": "ba1bd799",
   "metadata": {},
   "source": [
    "# Task 2: Data Analysis"
   ]
  },
  {
   "cell_type": "markdown",
   "id": "a7549d45",
   "metadata": {},
   "source": [
    "## a) Analyse how “churn” relates to numeric features"
   ]
  },
  {
   "cell_type": "markdown",
   "id": "9304a6d5",
   "metadata": {},
   "source": [
    "The first thing I would like to do is group the dataframe by churning to analyse the numeric data."
   ]
  },
  {
   "cell_type": "code",
   "execution_count": 134,
   "id": "2ef5327b",
   "metadata": {},
   "outputs": [
    {
     "data": {
      "text/html": [
       "<div>\n",
       "<style scoped>\n",
       "    .dataframe tbody tr th:only-of-type {\n",
       "        vertical-align: middle;\n",
       "    }\n",
       "\n",
       "    .dataframe tbody tr th {\n",
       "        vertical-align: top;\n",
       "    }\n",
       "\n",
       "    .dataframe thead th {\n",
       "        text-align: right;\n",
       "    }\n",
       "</style>\n",
       "<table border=\"1\" class=\"dataframe\">\n",
       "  <thead>\n",
       "    <tr style=\"text-align: right;\">\n",
       "      <th></th>\n",
       "      <th>age</th>\n",
       "      <th>credit_score</th>\n",
       "      <th>membership_length</th>\n",
       "      <th>balance</th>\n",
       "      <th>num_products</th>\n",
       "      <th>has_broadband</th>\n",
       "      <th>has_tv</th>\n",
       "      <th>num_support_calls</th>\n",
       "    </tr>\n",
       "    <tr>\n",
       "      <th>churn</th>\n",
       "      <th></th>\n",
       "      <th></th>\n",
       "      <th></th>\n",
       "      <th></th>\n",
       "      <th></th>\n",
       "      <th></th>\n",
       "      <th></th>\n",
       "      <th></th>\n",
       "    </tr>\n",
       "  </thead>\n",
       "  <tbody>\n",
       "    <tr>\n",
       "      <th>0</th>\n",
       "      <td>36.453714</td>\n",
       "      <td>627.681143</td>\n",
       "      <td>50.923429</td>\n",
       "      <td>344.858937</td>\n",
       "      <td>1.498286</td>\n",
       "      <td>0.840000</td>\n",
       "      <td>0.656000</td>\n",
       "      <td>1.098286</td>\n",
       "    </tr>\n",
       "    <tr>\n",
       "      <th>1</th>\n",
       "      <td>43.957555</td>\n",
       "      <td>627.069610</td>\n",
       "      <td>50.419355</td>\n",
       "      <td>470.438379</td>\n",
       "      <td>1.400679</td>\n",
       "      <td>0.570458</td>\n",
       "      <td>0.691002</td>\n",
       "      <td>2.254669</td>\n",
       "    </tr>\n",
       "  </tbody>\n",
       "</table>\n",
       "</div>"
      ],
      "text/plain": [
       "             age  credit_score  membership_length     balance  num_products  \\\n",
       "churn                                                                         \n",
       "0      36.453714    627.681143          50.923429  344.858937      1.498286   \n",
       "1      43.957555    627.069610          50.419355  470.438379      1.400679   \n",
       "\n",
       "       has_broadband    has_tv  num_support_calls  \n",
       "churn                                              \n",
       "0           0.840000  0.656000           1.098286  \n",
       "1           0.570458  0.691002           2.254669  "
      ]
     },
     "execution_count": 134,
     "metadata": {},
     "output_type": "execute_result"
    }
   ],
   "source": [
    "churn = df.groupby(\"churn\")\n",
    "\n",
    "churn.mean(numeric_only=True)"
   ]
  },
  {
   "cell_type": "markdown",
   "id": "e11866ca",
   "metadata": {},
   "source": [
    "Credit score, number of products, membership length, and has TV:\n",
    "- Similar for churners and non-churners alike\n",
    "- Suggests that these feautures do not significantly affect churning. \n",
    "\n",
    "Age:\n",
    "- Average age is slightly higher for churners.\n",
    "\n",
    "Balance, Number of Support Calls:\n",
    "- However, we can see that churners tend to have much higher balance than non-churners on average. \n",
    "- The same is true for the number of support calls, with churners having an average of 2.25 calls, while non-churners have an average of 1.1 calls.\n",
    "\n",
    "Has Broadband:\n",
    "- Lastly, churners tend to have less broadband bundles on average (and around the same number of tv bundles) compared to non-churners"
   ]
  },
  {
   "cell_type": "markdown",
   "id": "b529ba2a",
   "metadata": {},
   "source": [
    "Now I will take a look at the numeric features individually, and see how they relate to churning:\n",
    "\n",
    "### Age vs. Churn\n",
    "\n",
    "We can apply cross-tabulation:"
   ]
  },
  {
   "cell_type": "code",
   "execution_count": 135,
   "id": "9a9bcfeb",
   "metadata": {},
   "outputs": [
    {
     "data": {
      "text/html": [
       "<div>\n",
       "<style scoped>\n",
       "    .dataframe tbody tr th:only-of-type {\n",
       "        vertical-align: middle;\n",
       "    }\n",
       "\n",
       "    .dataframe tbody tr th {\n",
       "        vertical-align: top;\n",
       "    }\n",
       "\n",
       "    .dataframe thead th {\n",
       "        text-align: right;\n",
       "    }\n",
       "</style>\n",
       "<table border=\"1\" class=\"dataframe\">\n",
       "  <thead>\n",
       "    <tr style=\"text-align: right;\">\n",
       "      <th>churn</th>\n",
       "      <th>0</th>\n",
       "      <th>1</th>\n",
       "    </tr>\n",
       "    <tr>\n",
       "      <th>age_bracket</th>\n",
       "      <th></th>\n",
       "      <th></th>\n",
       "    </tr>\n",
       "  </thead>\n",
       "  <tbody>\n",
       "    <tr>\n",
       "      <th>(10, 20]</th>\n",
       "      <td>8</td>\n",
       "      <td>1</td>\n",
       "    </tr>\n",
       "    <tr>\n",
       "      <th>(20, 30]</th>\n",
       "      <td>230</td>\n",
       "      <td>62</td>\n",
       "    </tr>\n",
       "    <tr>\n",
       "      <th>(30, 40]</th>\n",
       "      <td>426</td>\n",
       "      <td>145</td>\n",
       "    </tr>\n",
       "    <tr>\n",
       "      <th>(40, 50]</th>\n",
       "      <td>130</td>\n",
       "      <td>225</td>\n",
       "    </tr>\n",
       "    <tr>\n",
       "      <th>(50, 60]</th>\n",
       "      <td>49</td>\n",
       "      <td>131</td>\n",
       "    </tr>\n",
       "    <tr>\n",
       "      <th>(60, 70]</th>\n",
       "      <td>22</td>\n",
       "      <td>22</td>\n",
       "    </tr>\n",
       "    <tr>\n",
       "      <th>(70, 80]</th>\n",
       "      <td>9</td>\n",
       "      <td>2</td>\n",
       "    </tr>\n",
       "    <tr>\n",
       "      <th>(80, 90]</th>\n",
       "      <td>1</td>\n",
       "      <td>1</td>\n",
       "    </tr>\n",
       "  </tbody>\n",
       "</table>\n",
       "</div>"
      ],
      "text/plain": [
       "churn          0    1\n",
       "age_bracket          \n",
       "(10, 20]       8    1\n",
       "(20, 30]     230   62\n",
       "(30, 40]     426  145\n",
       "(40, 50]     130  225\n",
       "(50, 60]      49  131\n",
       "(60, 70]      22   22\n",
       "(70, 80]       9    2\n",
       "(80, 90]       1    1"
      ]
     },
     "execution_count": 135,
     "metadata": {},
     "output_type": "execute_result"
    }
   ],
   "source": [
    "pd.crosstab(df[\"age_bracket\"], df[\"churn\"])"
   ]
  },
  {
   "cell_type": "markdown",
   "id": "941ba473",
   "metadata": {},
   "source": [
    "Customers that churn tend to be between 20 and 60, with most churners in the age bracket (40,50]. \n",
    "\n",
    "However, most non-churners are also in the age range 20 to 60, with most non-churners in the age bracket (30,40].\n",
    "\n",
    "We can see this further with some graphs:"
   ]
  },
  {
   "cell_type": "code",
   "execution_count": 136,
   "id": "364cb28c",
   "metadata": {},
   "outputs": [],
   "source": [
    "#Making separate dataframes for churned/nonchurned customers.\n",
    "df_1 = df[df[\"churn\"] == 1]\n",
    "\n",
    "df_0 = df[df[\"churn\"] == 0]"
   ]
  },
  {
   "cell_type": "code",
   "execution_count": 137,
   "id": "f783033c",
   "metadata": {
    "scrolled": true
   },
   "outputs": [
    {
     "data": {
      "text/plain": [
       "Text(0.5, 0, 'Age bracket of churners')"
      ]
     },
     "execution_count": 137,
     "metadata": {},
     "output_type": "execute_result"
    },
    {
     "data": {
      "image/png": "[encoded data removed]",
      "text/plain": [
       "<Figure size 400x300 with 1 Axes>"
      ]
     },
     "metadata": {},
     "output_type": "display_data"
    }
   ],
   "source": [
    "plt.figure(figsize=(4, 3))\n",
    "plt.hist(df_1[\"age\"], edgecolor=\"black\")\n",
    "plt.title(\"Age of churned customers\")\n",
    "plt.ylabel(\"Frequency of churners\")\n",
    "plt.xlabel(\"Age bracket of churners\")"
   ]
  },
  {
   "cell_type": "code",
   "execution_count": 138,
   "id": "36e281c2",
   "metadata": {},
   "outputs": [
    {
     "data": {
      "text/plain": [
       "Text(0.5, 0, 'Age bracket of non-churners')"
      ]
     },
     "execution_count": 138,
     "metadata": {},
     "output_type": "execute_result"
    },
    {
     "data": {
      "image/png": "[encoded data removed]",
      "text/plain": [
       "<Figure size 400x300 with 1 Axes>"
      ]
     },
     "metadata": {},
     "output_type": "display_data"
    }
   ],
   "source": [
    "plt.figure(figsize=(4, 3))\n",
    "plt.hist(df_0[\"age\"], edgecolor=\"black\")\n",
    "plt.title(\"Age of non-churned customers\")\n",
    "plt.ylabel(\"Frequency of non-churners\")\n",
    "plt.xlabel(\"Age bracket of non-churners\")"
   ]
  },
  {
   "cell_type": "markdown",
   "id": "bfcb980d",
   "metadata": {},
   "source": [
    "Alternatively, we can use seaborn to visualise both churners and non-churners in one graph. \n",
    "\n",
    "This will allow for better analysis as we can compare churners and non-churners more directly. I will use a count plot to do this.\n",
    "\n",
    "(Note that the percentage code from line 7 to 12 is from Trenton McKinney on https://stackoverflow.com/questions/31749448/how-to-add-percentages-on-top-of-grouped-bars)"
   ]
  },
  {
   "cell_type": "code",
   "execution_count": 139,
   "id": "128286fb",
   "metadata": {},
   "outputs": [
    {
     "data": {
      "image/png": "[encoded data removed]",
      "text/plain": [
       "<Figure size 1000x600 with 1 Axes>"
      ]
     },
     "metadata": {},
     "output_type": "display_data"
    }
   ],
   "source": [
    "plt.figure(figsize=(10,6))\n",
    "ax = sns.countplot(x=\"age_bracket\", hue=\"churn\", data=df, edgecolor=\"white\")\n",
    "plt.title(\"Frequency of Customer Age Depending on Churn Value\")\n",
    "plt.xlabel(\"Customer Age\")\n",
    "plt.ylabel(\"Frequency of Churners/Non-Churners\")\n",
    "\n",
    "for c in ax.containers:\n",
    "    \n",
    "    # custom label calculates percent and add an empty string so 0 value bars don't have a number\n",
    "    labels = [f'{h/df[\"churn\"].count()*100:0.1f}%' if (h := v.get_height()) > 0 else '' for v in c]\n",
    "    \n",
    "    ax.bar_label(c, labels=labels, label_type='edge', fontsize=8)"
   ]
  },
  {
   "cell_type": "markdown",
   "id": "c29a0163",
   "metadata": {},
   "source": [
    "The ratio of churners to non-churners is differs in the age brackets.\n",
    "\n",
    "- Customers aged (10,20], (20,30], (30,40] and (70,80] are less likely to churn.\n",
    "- Customers aged (40,50] and (50,60] are more likely to churn.\n",
    "- Customers aged (60,70] and (80,90] are equally likely to churn or not churn."
   ]
  },
  {
   "cell_type": "markdown",
   "id": "edab3848",
   "metadata": {},
   "source": [
    "For future analysis, I will use this count plot. \n",
    "\n",
    "I believe it provides clearer information about churning by showing us the difference in frequency of churning in one graph.\n",
    "\n",
    "Displaying separate diagrams with different y-value scales can mislead the reader into thinking churners and non-churners numbers are relatively equal as they have histograms of the same size. In reality. there are much more non-churners than churners, as shown in the merged plot.\n",
    "\n",
    "\n",
    "Lastly, I would like to use a boxplot to check the spread of values of age for both churners and non-churners:"
   ]
  },
  {
   "cell_type": "code",
   "execution_count": 140,
   "id": "77488608",
   "metadata": {},
   "outputs": [
    {
     "data": {
      "text/plain": [
       "<Axes: xlabel='churn', ylabel='age'>"
      ]
     },
     "execution_count": 140,
     "metadata": {},
     "output_type": "execute_result"
    },
    {
     "data": {
      "image/png": "[encoded data removed]",
      "text/plain": [
       "<Figure size 640x480 with 1 Axes>"
      ]
     },
     "metadata": {},
     "output_type": "display_data"
    }
   ],
   "source": [
    "sns.boxplot(x=\"churn\", y=\"age\", data=df)"
   ]
  },
  {
   "cell_type": "markdown",
   "id": "406d4ca3",
   "metadata": {},
   "source": [
    "This shows us that churners tend to be older on average than non-churners, as we saw earlier.\n",
    "\n",
    "The median and the upper quartile range are higher in churners than non-churners. The upper outlier for churners is also higher than non-churners'.\n",
    "\n",
    "Additionally, there are much more non-churner outliers than churner outliers when it comes to age."
   ]
  },
  {
   "cell_type": "markdown",
   "id": "04dcc9db",
   "metadata": {},
   "source": [
    "### Credit Score vs. Churn"
   ]
  },
  {
   "cell_type": "code",
   "execution_count": 141,
   "id": "b6cae92c",
   "metadata": {},
   "outputs": [
    {
     "data": {
      "text/html": [
       "<div>\n",
       "<style scoped>\n",
       "    .dataframe tbody tr th:only-of-type {\n",
       "        vertical-align: middle;\n",
       "    }\n",
       "\n",
       "    .dataframe tbody tr th {\n",
       "        vertical-align: top;\n",
       "    }\n",
       "\n",
       "    .dataframe thead th {\n",
       "        text-align: right;\n",
       "    }\n",
       "</style>\n",
       "<table border=\"1\" class=\"dataframe\">\n",
       "  <thead>\n",
       "    <tr style=\"text-align: right;\">\n",
       "      <th>churn</th>\n",
       "      <th>0</th>\n",
       "      <th>1</th>\n",
       "    </tr>\n",
       "    <tr>\n",
       "      <th>credit_score_bracket</th>\n",
       "      <th></th>\n",
       "      <th></th>\n",
       "    </tr>\n",
       "  </thead>\n",
       "  <tbody>\n",
       "    <tr>\n",
       "      <th>(200, 300]</th>\n",
       "      <td>0</td>\n",
       "      <td>1</td>\n",
       "    </tr>\n",
       "    <tr>\n",
       "      <th>(300, 400]</th>\n",
       "      <td>9</td>\n",
       "      <td>13</td>\n",
       "    </tr>\n",
       "    <tr>\n",
       "      <th>(400, 500]</th>\n",
       "      <td>89</td>\n",
       "      <td>57</td>\n",
       "    </tr>\n",
       "    <tr>\n",
       "      <th>(500, 600]</th>\n",
       "      <td>269</td>\n",
       "      <td>161</td>\n",
       "    </tr>\n",
       "    <tr>\n",
       "      <th>(600, 700]</th>\n",
       "      <td>280</td>\n",
       "      <td>204</td>\n",
       "    </tr>\n",
       "    <tr>\n",
       "      <th>(700, 800]</th>\n",
       "      <td>175</td>\n",
       "      <td>129</td>\n",
       "    </tr>\n",
       "    <tr>\n",
       "      <th>(800, 900]</th>\n",
       "      <td>53</td>\n",
       "      <td>24</td>\n",
       "    </tr>\n",
       "  </tbody>\n",
       "</table>\n",
       "</div>"
      ],
      "text/plain": [
       "churn                   0    1\n",
       "credit_score_bracket          \n",
       "(200, 300]              0    1\n",
       "(300, 400]              9   13\n",
       "(400, 500]             89   57\n",
       "(500, 600]            269  161\n",
       "(600, 700]            280  204\n",
       "(700, 800]            175  129\n",
       "(800, 900]             53   24"
      ]
     },
     "execution_count": 141,
     "metadata": {},
     "output_type": "execute_result"
    }
   ],
   "source": [
    "pd.crosstab(df[\"credit_score_bracket\"], df[\"churn\"])"
   ]
  },
  {
   "cell_type": "markdown",
   "id": "9874cd61",
   "metadata": {},
   "source": [
    "We can see that the most common credit scores are in the range (500,800], with most churners also in that range. \n",
    "\n",
    "If we plot this as a count plot we see:"
   ]
  },
  {
   "cell_type": "code",
   "execution_count": 142,
   "id": "06fc6398",
   "metadata": {},
   "outputs": [
    {
     "data": {
      "image/png": "[encoded data removed]",
      "text/plain": [
       "<Figure size 700x400 with 1 Axes>"
      ]
     },
     "metadata": {},
     "output_type": "display_data"
    }
   ],
   "source": [
    "plt.figure(figsize=(7,4))\n",
    "ax = sns.countplot(x=\"credit_score_bracket\", hue=\"churn\", data=df, edgecolor=\"white\", palette=[\"orange\", \"purple\"])\n",
    "plt.title(\"Frequency of Customer Credit Score Depending on Churn Value\")\n",
    "plt.xlabel(\"Customer Credit Score\")\n",
    "plt.ylabel(\"Frequency of Churners/Non-Churners\")\n",
    "\n",
    "for c in ax.containers:\n",
    "    \n",
    "    # custom label calculates percent and add an empty string so 0 value bars don't have a number\n",
    "    labels = [f'{h/df[\"churn\"].count()*100:0.1f}%' if (h := v.get_height()) > 0 else '' for v in c]\n",
    "    \n",
    "    ax.bar_label(c, labels=labels, label_type='edge', fontsize=8)\n",
    "    \n",
    "#(Percentage code from Trenton McKinney on https://stackoverflow.com/questions/31749448/how-to-add-percentages-on-top-of-grouped-bars)"
   ]
  },
  {
   "cell_type": "markdown",
   "id": "af59361b",
   "metadata": {},
   "source": [
    "For most credit score bracket (exceptions - (200,300] and (300,400]) there are much more non-churners than churners.\n",
    "\n",
    "The highest churn rates (compared to non-churn rates) are in the brackets (600, 700], and (700,800]\n",
    "\n",
    "The lowest churn rates (compared to non-churn rates) are in the brackets (500, 600].\n",
    "\n",
    "We can represent this as a boxplot too:"
   ]
  },
  {
   "cell_type": "code",
   "execution_count": 143,
   "id": "fc14fcdd",
   "metadata": {},
   "outputs": [
    {
     "data": {
      "text/plain": [
       "<Axes: xlabel='churn', ylabel='credit_score'>"
      ]
     },
     "execution_count": 143,
     "metadata": {},
     "output_type": "execute_result"
    },
    {
     "data": {
      "image/png": "[encoded data removed]",
      "text/plain": [
       "<Figure size 640x480 with 1 Axes>"
      ]
     },
     "metadata": {},
     "output_type": "display_data"
    }
   ],
   "source": [
    "sns.boxplot(x=\"churn\", y=\"credit_score\", data=df)"
   ]
  },
  {
   "cell_type": "markdown",
   "id": "64d9d1f7",
   "metadata": {},
   "source": [
    "We cann see that churners and non-churners are nearly identical when it comes to boxplots, showing that they tend to have the same range.\n",
    "\n",
    "The minimum credit score of churners looks to be lower than non-churners, and there are even some outliers present in churners."
   ]
  },
  {
   "cell_type": "markdown",
   "id": "415d890a",
   "metadata": {},
   "source": [
    "### Membership Length vs. Churn"
   ]
  },
  {
   "cell_type": "code",
   "execution_count": 144,
   "id": "9cceab94",
   "metadata": {},
   "outputs": [
    {
     "data": {
      "text/html": [
       "<div>\n",
       "<style scoped>\n",
       "    .dataframe tbody tr th:only-of-type {\n",
       "        vertical-align: middle;\n",
       "    }\n",
       "\n",
       "    .dataframe tbody tr th {\n",
       "        vertical-align: top;\n",
       "    }\n",
       "\n",
       "    .dataframe thead th {\n",
       "        text-align: right;\n",
       "    }\n",
       "</style>\n",
       "<table border=\"1\" class=\"dataframe\">\n",
       "  <thead>\n",
       "    <tr style=\"text-align: right;\">\n",
       "      <th>churn</th>\n",
       "      <th>0</th>\n",
       "      <th>1</th>\n",
       "    </tr>\n",
       "    <tr>\n",
       "      <th>membership_length_bracket</th>\n",
       "      <th></th>\n",
       "      <th></th>\n",
       "    </tr>\n",
       "  </thead>\n",
       "  <tbody>\n",
       "    <tr>\n",
       "      <th>(0.999, 30.0]</th>\n",
       "      <td>297</td>\n",
       "      <td>208</td>\n",
       "    </tr>\n",
       "    <tr>\n",
       "      <th>(30.0, 60.0]</th>\n",
       "      <td>231</td>\n",
       "      <td>150</td>\n",
       "    </tr>\n",
       "    <tr>\n",
       "      <th>(60.0, 90.0]</th>\n",
       "      <td>214</td>\n",
       "      <td>135</td>\n",
       "    </tr>\n",
       "    <tr>\n",
       "      <th>(90.0, 120.0]</th>\n",
       "      <td>127</td>\n",
       "      <td>85</td>\n",
       "    </tr>\n",
       "    <tr>\n",
       "      <th>(120.0, 150.0]</th>\n",
       "      <td>6</td>\n",
       "      <td>11</td>\n",
       "    </tr>\n",
       "  </tbody>\n",
       "</table>\n",
       "</div>"
      ],
      "text/plain": [
       "churn                        0    1\n",
       "membership_length_bracket          \n",
       "(0.999, 30.0]              297  208\n",
       "(30.0, 60.0]               231  150\n",
       "(60.0, 90.0]               214  135\n",
       "(90.0, 120.0]              127   85\n",
       "(120.0, 150.0]               6   11"
      ]
     },
     "execution_count": 144,
     "metadata": {},
     "output_type": "execute_result"
    }
   ],
   "source": [
    "pd.crosstab(df[\"membership_length_bracket\"], df[\"churn\"])"
   ]
  },
  {
   "cell_type": "markdown",
   "id": "6fe8129f",
   "metadata": {},
   "source": [
    "Visualising this we get:"
   ]
  },
  {
   "cell_type": "code",
   "execution_count": 145,
   "id": "9f738a96",
   "metadata": {
    "scrolled": true
   },
   "outputs": [
    {
     "data": {
      "image/png": "[encoded data removed]",
      "text/plain": [
       "<Figure size 600x500 with 1 Axes>"
      ]
     },
     "metadata": {},
     "output_type": "display_data"
    }
   ],
   "source": [
    "plt.figure(figsize=(6, 5))\n",
    "ax = sns.countplot(x=\"membership_length_bracket\", hue=\"churn\", data=df, edgecolor=\"white\", palette=[\"blue\", \"yellow\"])\n",
    "plt.title(\"Frequency of Customer Membership Length Depending on Churn Value\")\n",
    "plt.xlabel(\"Customer Membership Length\")\n",
    "plt.ylabel(\"Frequency of Churners/Non-Churners\")\n",
    "\n",
    "for c in ax.containers:\n",
    "    \n",
    "    # custom label calculates percent and add an empty string so 0 value bars don't have a number\n",
    "    labels = [f'{h/df[\"churn\"].count()*100:0.1f}%' if (h := v.get_height()) > 0 else '' for v in c]\n",
    "    \n",
    "    ax.bar_label(c, labels=labels, label_type='edge', fontsize=8)\n",
    "    \n",
    "#(Percentage code from Trenton McKinney on https://stackoverflow.com/questions/31749448/how-to-add-percentages-on-top-of-grouped-bars)"
   ]
  },
  {
   "cell_type": "markdown",
   "id": "f141cf4b",
   "metadata": {},
   "source": [
    "Once again, there are much less churners than non-churners.\n",
    "\n",
    "The only bracket that doesn't follow this is (120, 150], with more churners than non-churners,but they account for about 1.2% of customers.\n",
    "\n",
    "In most brackets, there is a ratio of 3:1 of non-churners to churners.\n",
    "\n",
    "This trend suggests that customer membership length may not have a large impact on churning."
   ]
  },
  {
   "cell_type": "code",
   "execution_count": 146,
   "id": "6c9c52b4",
   "metadata": {},
   "outputs": [
    {
     "data": {
      "text/plain": [
       "<Axes: xlabel='churn', ylabel='membership_length'>"
      ]
     },
     "execution_count": 146,
     "metadata": {},
     "output_type": "execute_result"
    },
    {
     "data": {
      "image/png": "[encoded data removed]",
      "text/plain": [
       "<Figure size 640x480 with 1 Axes>"
      ]
     },
     "metadata": {},
     "output_type": "display_data"
    }
   ],
   "source": [
    "sns.boxplot(x=\"churn\", y=\"membership_length\", data=df)"
   ]
  },
  {
   "cell_type": "markdown",
   "id": "3be77874",
   "metadata": {},
   "source": [
    "Once again, membership length does not seem to have a large impact on churning when it comes to the spread/range of data."
   ]
  },
  {
   "cell_type": "markdown",
   "id": "99d9d7ef",
   "metadata": {},
   "source": [
    "### Balance vs. Churn"
   ]
  },
  {
   "cell_type": "code",
   "execution_count": 147,
   "id": "1f140381",
   "metadata": {},
   "outputs": [
    {
     "data": {
      "text/html": [
       "<div>\n",
       "<style scoped>\n",
       "    .dataframe tbody tr th:only-of-type {\n",
       "        vertical-align: middle;\n",
       "    }\n",
       "\n",
       "    .dataframe tbody tr th {\n",
       "        vertical-align: top;\n",
       "    }\n",
       "\n",
       "    .dataframe thead th {\n",
       "        text-align: right;\n",
       "    }\n",
       "</style>\n",
       "<table border=\"1\" class=\"dataframe\">\n",
       "  <thead>\n",
       "    <tr style=\"text-align: right;\">\n",
       "      <th>churn</th>\n",
       "      <th>0</th>\n",
       "      <th>1</th>\n",
       "    </tr>\n",
       "    <tr>\n",
       "      <th>balance_bracket</th>\n",
       "      <th></th>\n",
       "      <th></th>\n",
       "    </tr>\n",
       "  </thead>\n",
       "  <tbody>\n",
       "    <tr>\n",
       "      <th>(-0.001, 300.0]</th>\n",
       "      <td>360</td>\n",
       "      <td>171</td>\n",
       "    </tr>\n",
       "    <tr>\n",
       "      <th>(300.0, 600.0]</th>\n",
       "      <td>301</td>\n",
       "      <td>169</td>\n",
       "    </tr>\n",
       "    <tr>\n",
       "      <th>(600.0, 900.0]</th>\n",
       "      <td>211</td>\n",
       "      <td>216</td>\n",
       "    </tr>\n",
       "    <tr>\n",
       "      <th>(900.0, 1200.0]</th>\n",
       "      <td>3</td>\n",
       "      <td>30</td>\n",
       "    </tr>\n",
       "    <tr>\n",
       "      <th>(1200.0, 1500.0]</th>\n",
       "      <td>0</td>\n",
       "      <td>3</td>\n",
       "    </tr>\n",
       "  </tbody>\n",
       "</table>\n",
       "</div>"
      ],
      "text/plain": [
       "churn               0    1\n",
       "balance_bracket           \n",
       "(-0.001, 300.0]   360  171\n",
       "(300.0, 600.0]    301  169\n",
       "(600.0, 900.0]    211  216\n",
       "(900.0, 1200.0]     3   30\n",
       "(1200.0, 1500.0]    0    3"
      ]
     },
     "execution_count": 147,
     "metadata": {},
     "output_type": "execute_result"
    }
   ],
   "source": [
    "pd.crosstab(df[\"balance_bracket\"], df[\"churn\"])"
   ]
  },
  {
   "cell_type": "code",
   "execution_count": 148,
   "id": "8a9047a2",
   "metadata": {},
   "outputs": [
    {
     "data": {
      "image/png": "[encoded data removed]",
      "text/plain": [
       "<Figure size 800x500 with 1 Axes>"
      ]
     },
     "metadata": {},
     "output_type": "display_data"
    }
   ],
   "source": [
    "plt.figure(figsize=(8, 5))\n",
    "ax = sns.countplot(x=\"balance_bracket\", hue=\"churn\", data=df, edgecolor=\"white\", palette=[\"pink\", \"lightblue\"])\n",
    "plt.title(\"Frequency of Customer Balance Depending on Churn Value\")\n",
    "plt.xlabel(\"Customer Balance\")\n",
    "plt.ylabel(\"Frequency of Churners/Non-Churners\")\n",
    "\n",
    "for c in ax.containers:\n",
    "    \n",
    "    # custom label calculates percent and add an empty string so 0 value bars don't have a number\n",
    "    labels = [f'{h/df[\"churn\"].count()*100:0.1f}%' if (h := v.get_height()) > 0 else '' for v in c]\n",
    "    \n",
    "    ax.bar_label(c, labels=labels, label_type='edge', fontsize=8)\n",
    "    \n",
    "#(Percentage code from Trenton McKinney on https://stackoverflow.com/questions/31749448/how-to-add-percentages-on-top-of-grouped-bars)"
   ]
  },
  {
   "cell_type": "markdown",
   "id": "086efffc",
   "metadata": {},
   "source": [
    "We can see that the rate of churners increase as the balance increases:\n",
    "- Only the lowest brackets [0, 300] and (300, 600] have more non-churners than churners.\n",
    "- In (600, 900] there are slightly more churners than non-churners\n",
    "- In (900, 1200] there are 10 times more churners than non-churners\n",
    "- Every customer in the (1200, 1500] balance range is a churner.\n",
    "\n",
    "This shows that balance seems to have an impact on churning. We will investigate this further later."
   ]
  },
  {
   "cell_type": "code",
   "execution_count": 149,
   "id": "719e8ed2",
   "metadata": {},
   "outputs": [
    {
     "data": {
      "text/plain": [
       "<Axes: xlabel='churn', ylabel='balance'>"
      ]
     },
     "execution_count": 149,
     "metadata": {},
     "output_type": "execute_result"
    },
    {
     "data": {
      "image/png": "[encoded data removed]",
      "text/plain": [
       "<Figure size 640x480 with 1 Axes>"
      ]
     },
     "metadata": {},
     "output_type": "display_data"
    }
   ],
   "source": [
    "sns.boxplot(x=\"churn\", y=\"balance\", data=df)"
   ]
  },
  {
   "cell_type": "markdown",
   "id": "65969906",
   "metadata": {},
   "source": [
    "Here we can see that churners tend to have slighly more balance than non-churners. \n",
    "\n",
    "The upper (75% percentile) range is also much higher for churners, with the max going over 1400, compared to non-churner's max of just under 1000, once again highlighting the fact that churners have more balance than non-churners."
   ]
  },
  {
   "cell_type": "markdown",
   "id": "c41c0d19",
   "metadata": {},
   "source": [
    "### Number of Products vs. Churn"
   ]
  },
  {
   "cell_type": "code",
   "execution_count": 150,
   "id": "9c54b508",
   "metadata": {},
   "outputs": [
    {
     "data": {
      "text/html": [
       "<div>\n",
       "<style scoped>\n",
       "    .dataframe tbody tr th:only-of-type {\n",
       "        vertical-align: middle;\n",
       "    }\n",
       "\n",
       "    .dataframe tbody tr th {\n",
       "        vertical-align: top;\n",
       "    }\n",
       "\n",
       "    .dataframe thead th {\n",
       "        text-align: right;\n",
       "    }\n",
       "</style>\n",
       "<table border=\"1\" class=\"dataframe\">\n",
       "  <thead>\n",
       "    <tr style=\"text-align: right;\">\n",
       "      <th>churn</th>\n",
       "      <th>0</th>\n",
       "      <th>1</th>\n",
       "    </tr>\n",
       "    <tr>\n",
       "      <th>num_products</th>\n",
       "      <th></th>\n",
       "      <th></th>\n",
       "    </tr>\n",
       "  </thead>\n",
       "  <tbody>\n",
       "    <tr>\n",
       "      <th>1</th>\n",
       "      <td>441</td>\n",
       "      <td>435</td>\n",
       "    </tr>\n",
       "    <tr>\n",
       "      <th>2</th>\n",
       "      <td>432</td>\n",
       "      <td>88</td>\n",
       "    </tr>\n",
       "    <tr>\n",
       "      <th>3</th>\n",
       "      <td>2</td>\n",
       "      <td>50</td>\n",
       "    </tr>\n",
       "    <tr>\n",
       "      <th>4</th>\n",
       "      <td>0</td>\n",
       "      <td>16</td>\n",
       "    </tr>\n",
       "  </tbody>\n",
       "</table>\n",
       "</div>"
      ],
      "text/plain": [
       "churn           0    1\n",
       "num_products          \n",
       "1             441  435\n",
       "2             432   88\n",
       "3               2   50\n",
       "4               0   16"
      ]
     },
     "execution_count": 150,
     "metadata": {},
     "output_type": "execute_result"
    }
   ],
   "source": [
    "pd.crosstab(df[\"num_products\"], df[\"churn\"])"
   ]
  },
  {
   "cell_type": "code",
   "execution_count": 151,
   "id": "ad2bb83c",
   "metadata": {},
   "outputs": [
    {
     "data": {
      "image/png": "[encoded data removed]",
      "text/plain": [
       "<Figure size 640x480 with 1 Axes>"
      ]
     },
     "metadata": {},
     "output_type": "display_data"
    }
   ],
   "source": [
    "ax = sns.countplot(x=\"num_products\", hue=\"churn\", data=df, palette=[\"lightgrey\", \"lightblue\"])\n",
    "plt.title(\"Frequency of Number of Products Per Customer Depending on Churn Value\")\n",
    "plt.xlabel(\"Number of Products\")\n",
    "plt.ylabel(\"Frequency of Churners/Non-Churners\")\n",
    "\n",
    "for c in ax.containers:\n",
    "    \n",
    "    # custom label calculates percent and add an empty string so 0 value bars don't have a number\n",
    "    labels = [f'{h/df[\"churn\"].count()*100:0.1f}%' if (h := v.get_height()) > 0 else '' for v in c]\n",
    "    \n",
    "    ax.bar_label(c, labels=labels, label_type='edge', fontsize=8) "
   ]
  },
  {
   "cell_type": "markdown",
   "id": "e22f1635",
   "metadata": {},
   "source": [
    "Customers with 3 or 4 products are majorly churners.\n",
    "\n",
    "Most customers have 1 or 2 products\n",
    "\n",
    "There are nearly as many churners as non-churners for customers with 1 product.\n",
    "\n",
    "There are significantly more non-churners than churners for customers with 2 products.\n",
    "\n",
    "Since the distribution of churning varies for each value, this feature may influence churning."
   ]
  },
  {
   "cell_type": "code",
   "execution_count": 152,
   "id": "f0e9bdef",
   "metadata": {},
   "outputs": [
    {
     "data": {
      "text/plain": [
       "<Axes: xlabel='churn', ylabel='num_products'>"
      ]
     },
     "execution_count": 152,
     "metadata": {},
     "output_type": "execute_result"
    },
    {
     "data": {
      "image/png": "[encoded data removed]",
      "text/plain": [
       "<Figure size 640x480 with 1 Axes>"
      ]
     },
     "metadata": {},
     "output_type": "display_data"
    }
   ],
   "source": [
    "sns.boxplot(x=\"churn\", y=\"num_products\", data=df)"
   ]
  },
  {
   "cell_type": "markdown",
   "id": "1c80ffd1",
   "metadata": {},
   "source": [
    "The boxplots look nearly identical, with the exception of an outlier for churners with 4 products."
   ]
  },
  {
   "cell_type": "markdown",
   "id": "6047a7d3",
   "metadata": {},
   "source": [
    "### Number of Support Calls vs. Churn"
   ]
  },
  {
   "cell_type": "code",
   "execution_count": 153,
   "id": "26efe1b7",
   "metadata": {},
   "outputs": [
    {
     "data": {
      "text/html": [
       "<div>\n",
       "<style scoped>\n",
       "    .dataframe tbody tr th:only-of-type {\n",
       "        vertical-align: middle;\n",
       "    }\n",
       "\n",
       "    .dataframe tbody tr th {\n",
       "        vertical-align: top;\n",
       "    }\n",
       "\n",
       "    .dataframe thead th {\n",
       "        text-align: right;\n",
       "    }\n",
       "</style>\n",
       "<table border=\"1\" class=\"dataframe\">\n",
       "  <thead>\n",
       "    <tr style=\"text-align: right;\">\n",
       "      <th>churn</th>\n",
       "      <th>0</th>\n",
       "      <th>1</th>\n",
       "    </tr>\n",
       "    <tr>\n",
       "      <th>num_support_calls</th>\n",
       "      <th></th>\n",
       "      <th></th>\n",
       "    </tr>\n",
       "  </thead>\n",
       "  <tbody>\n",
       "    <tr>\n",
       "      <th>0</th>\n",
       "      <td>504</td>\n",
       "      <td>189</td>\n",
       "    </tr>\n",
       "    <tr>\n",
       "      <th>1</th>\n",
       "      <td>151</td>\n",
       "      <td>136</td>\n",
       "    </tr>\n",
       "    <tr>\n",
       "      <th>2</th>\n",
       "      <td>75</td>\n",
       "      <td>86</td>\n",
       "    </tr>\n",
       "    <tr>\n",
       "      <th>3</th>\n",
       "      <td>36</td>\n",
       "      <td>43</td>\n",
       "    </tr>\n",
       "    <tr>\n",
       "      <th>4</th>\n",
       "      <td>45</td>\n",
       "      <td>20</td>\n",
       "    </tr>\n",
       "    <tr>\n",
       "      <th>5</th>\n",
       "      <td>29</td>\n",
       "      <td>20</td>\n",
       "    </tr>\n",
       "    <tr>\n",
       "      <th>6</th>\n",
       "      <td>18</td>\n",
       "      <td>25</td>\n",
       "    </tr>\n",
       "    <tr>\n",
       "      <th>7</th>\n",
       "      <td>17</td>\n",
       "      <td>27</td>\n",
       "    </tr>\n",
       "    <tr>\n",
       "      <th>8</th>\n",
       "      <td>0</td>\n",
       "      <td>23</td>\n",
       "    </tr>\n",
       "    <tr>\n",
       "      <th>9</th>\n",
       "      <td>0</td>\n",
       "      <td>12</td>\n",
       "    </tr>\n",
       "    <tr>\n",
       "      <th>10</th>\n",
       "      <td>0</td>\n",
       "      <td>8</td>\n",
       "    </tr>\n",
       "  </tbody>\n",
       "</table>\n",
       "</div>"
      ],
      "text/plain": [
       "churn                0    1\n",
       "num_support_calls          \n",
       "0                  504  189\n",
       "1                  151  136\n",
       "2                   75   86\n",
       "3                   36   43\n",
       "4                   45   20\n",
       "5                   29   20\n",
       "6                   18   25\n",
       "7                   17   27\n",
       "8                    0   23\n",
       "9                    0   12\n",
       "10                   0    8"
      ]
     },
     "execution_count": 153,
     "metadata": {},
     "output_type": "execute_result"
    }
   ],
   "source": [
    "pd.crosstab(df[\"num_support_calls\"], df[\"churn\"])"
   ]
  },
  {
   "cell_type": "code",
   "execution_count": 154,
   "id": "33f60505",
   "metadata": {},
   "outputs": [
    {
     "data": {
      "image/png": "[encoded data removed]",
      "text/plain": [
       "<Figure size 1000x600 with 1 Axes>"
      ]
     },
     "metadata": {},
     "output_type": "display_data"
    }
   ],
   "source": [
    "plt.figure(figsize=(10, 6))\n",
    "ax = sns.countplot(x=\"num_support_calls\", hue=\"churn\", data=df, palette=[\"orange\", \"green\"])\n",
    "plt.title(\"Frequency of Customer Support Calls Depending on Churn Value\")\n",
    "plt.xlabel(\"Number of Support Calls\")\n",
    "plt.ylabel(\"Frequency of Churners/Non-Churners\")\n",
    "\n",
    "for c in ax.containers:\n",
    "    \n",
    "    # custom label calculates percent and add an empty string so 0 value bars don't have a number\n",
    "    labels = [f'{h/df[\"churn\"].count()*100:0.1f}%' if (h := v.get_height()) > 0 else '' for v in c]\n",
    "    \n",
    "    ax.bar_label(c, labels=labels, label_type='edge', fontsize=8) "
   ]
  },
  {
   "cell_type": "markdown",
   "id": "8af02f9e",
   "metadata": {},
   "source": [
    "Nearly 50% of the customer base have had no support calls, of which only 12.9% have churned. \n",
    "\n",
    "- For customers who have had 2, 3, 6, or 7 support calls, most have churned. \n",
    "\n",
    "- All customers with calls greater than 7 have churned. \n",
    "\n",
    "This is implies if a customer has had a large number of support calls, they may be very likely to churn. \n",
    "\n",
    "This makes sense. Such a customer is likely to have had a long unresolved problem with the products, which is likely to lead to customer dissatisfaction and churning."
   ]
  },
  {
   "cell_type": "code",
   "execution_count": 155,
   "id": "8832cb20",
   "metadata": {},
   "outputs": [
    {
     "data": {
      "text/plain": [
       "<Axes: xlabel='churn', ylabel='num_support_calls'>"
      ]
     },
     "execution_count": 155,
     "metadata": {},
     "output_type": "execute_result"
    },
    {
     "data": {
      "image/png": "[encoded data removed]",
      "text/plain": [
       "<Figure size 640x480 with 1 Axes>"
      ]
     },
     "metadata": {},
     "output_type": "display_data"
    }
   ],
   "source": [
    "sns.boxplot(x=\"churn\", y=\"num_support_calls\", data=df)"
   ]
  },
  {
   "cell_type": "markdown",
   "id": "346e110b",
   "metadata": {},
   "source": [
    "The insights from the count plot are reflected in the boxplot as well, implying that churners have a higher number of support calls.\n",
    "\n",
    "Both the median and the upper quartile range is higher in churners than in non-churners. There are more upper outliers as well."
   ]
  },
  {
   "cell_type": "markdown",
   "id": "5ea44b7c",
   "metadata": {},
   "source": [
    "## b) Analyse how “churn” relates to categorical features"
   ]
  },
  {
   "cell_type": "markdown",
   "id": "adc9e9e3",
   "metadata": {},
   "source": [
    "Categorical features:\n",
    "- location\n",
    "- gender\n",
    "- payment methods\n",
    "- broadband bundle\n",
    "- tv bundle"
   ]
  },
  {
   "cell_type": "markdown",
   "id": "d9b6542b",
   "metadata": {},
   "source": [
    "### Location vs Churn"
   ]
  },
  {
   "cell_type": "code",
   "execution_count": 156,
   "id": "8e8f3971",
   "metadata": {},
   "outputs": [
    {
     "data": {
      "text/html": [
       "<div>\n",
       "<style scoped>\n",
       "    .dataframe tbody tr th:only-of-type {\n",
       "        vertical-align: middle;\n",
       "    }\n",
       "\n",
       "    .dataframe tbody tr th {\n",
       "        vertical-align: top;\n",
       "    }\n",
       "\n",
       "    .dataframe thead th {\n",
       "        text-align: right;\n",
       "    }\n",
       "</style>\n",
       "<table border=\"1\" class=\"dataframe\">\n",
       "  <thead>\n",
       "    <tr style=\"text-align: right;\">\n",
       "      <th>churn</th>\n",
       "      <th>0</th>\n",
       "      <th>1</th>\n",
       "    </tr>\n",
       "    <tr>\n",
       "      <th>location</th>\n",
       "      <th></th>\n",
       "      <th></th>\n",
       "    </tr>\n",
       "  </thead>\n",
       "  <tbody>\n",
       "    <tr>\n",
       "      <th>Connacht</th>\n",
       "      <td>202</td>\n",
       "      <td>116</td>\n",
       "    </tr>\n",
       "    <tr>\n",
       "      <th>Leinster</th>\n",
       "      <td>344</td>\n",
       "      <td>180</td>\n",
       "    </tr>\n",
       "    <tr>\n",
       "      <th>Munster</th>\n",
       "      <td>241</td>\n",
       "      <td>239</td>\n",
       "    </tr>\n",
       "    <tr>\n",
       "      <th>Ulster</th>\n",
       "      <td>88</td>\n",
       "      <td>54</td>\n",
       "    </tr>\n",
       "  </tbody>\n",
       "</table>\n",
       "</div>"
      ],
      "text/plain": [
       "churn       0    1\n",
       "location          \n",
       "Connacht  202  116\n",
       "Leinster  344  180\n",
       "Munster   241  239\n",
       "Ulster     88   54"
      ]
     },
     "execution_count": 156,
     "metadata": {},
     "output_type": "execute_result"
    }
   ],
   "source": [
    "pd.crosstab(df[\"location\"], df[\"churn\"])"
   ]
  },
  {
   "cell_type": "code",
   "execution_count": 157,
   "id": "fe9edd16",
   "metadata": {},
   "outputs": [
    {
     "data": {
      "image/png": "[encoded data removed]",
      "text/plain": [
       "<Figure size 640x480 with 1 Axes>"
      ]
     },
     "metadata": {},
     "output_type": "display_data"
    }
   ],
   "source": [
    "ax = sns.countplot(x=\"location\", hue=\"churn\", data=df)\n",
    "plt.title(\"Frequency of Customer Locations Depending on Churn Value\")\n",
    "plt.xlabel(\"Location\")\n",
    "plt.ylabel(\"Frequency of Churners/Non-Churners\")\n",
    "\n",
    "for c in ax.containers:\n",
    "    \n",
    "    # custom label calculates percent and add an empty string so 0 value bars don't have a number\n",
    "    labels = [f'{h/df[\"churn\"].count()*100:0.1f}%' if (h := v.get_height()) > 0 else '' for v in c]\n",
    "    \n",
    "    ax.bar_label(c, labels=labels, label_type='edge', fontsize=8) "
   ]
  },
  {
   "cell_type": "markdown",
   "id": "49cff81b",
   "metadata": {},
   "source": [
    "Most churners are from Munster, while most non-churners are from Leinster. \n",
    "\n",
    "For every location except Munster, tthere are much more non-churners than non-churners(approximately twice as many.)\n",
    "\n",
    "Munster has approximately as many churners as non-churners. \n",
    "\n",
    "Since the ratio of churning to not churning is similar for most values of location, location may not contribute to churning."
   ]
  },
  {
   "cell_type": "markdown",
   "id": "6cdf65a3",
   "metadata": {},
   "source": [
    "### Gender vs Churn"
   ]
  },
  {
   "cell_type": "code",
   "execution_count": 158,
   "id": "1e31ad19",
   "metadata": {},
   "outputs": [
    {
     "data": {
      "image/png": "[encoded data removed]",
      "text/plain": [
       "<Figure size 640x480 with 1 Axes>"
      ]
     },
     "metadata": {},
     "output_type": "display_data"
    }
   ],
   "source": [
    "ax = sns.countplot(x=\"gender\", hue=\"churn\", data=df, palette=[\"green\", \"coral\"])\n",
    "plt.title(\"Frequency of Gender Depending on Churn Value\")\n",
    "plt.xlabel(\"Gender\")\n",
    "plt.ylabel(\"Frequency of Churners/Non-Churners\")\n",
    "\n",
    "for c in ax.containers:\n",
    "    \n",
    "    # custom label calculates percent and add an empty string so 0 value bars don't have a number\n",
    "    labels = [f'{h/df[\"churn\"].count()*100:0.1f}%' if (h := v.get_height()) > 0 else '' for v in c]\n",
    "    \n",
    "    ax.bar_label(c, labels=labels, label_type='edge', fontsize=8) "
   ]
  },
  {
   "cell_type": "markdown",
   "id": "4685854c",
   "metadata": {},
   "source": [
    "From this graph, we can see that women tend to churn more often than men.\n",
    "\n",
    "There are also much more non-churners who are men than non-churners who are women, even though there is approximately the same amount of women an men.\n",
    "\n",
    "This difference suggests that customer gender may play a role in churning. "
   ]
  },
  {
   "cell_type": "code",
   "execution_count": 159,
   "id": "0eb84b25",
   "metadata": {},
   "outputs": [
    {
     "data": {
      "text/html": [
       "<div>\n",
       "<style scoped>\n",
       "    .dataframe tbody tr th:only-of-type {\n",
       "        vertical-align: middle;\n",
       "    }\n",
       "\n",
       "    .dataframe tbody tr th {\n",
       "        vertical-align: top;\n",
       "    }\n",
       "\n",
       "    .dataframe thead th {\n",
       "        text-align: right;\n",
       "    }\n",
       "</style>\n",
       "<table border=\"1\" class=\"dataframe\">\n",
       "  <thead>\n",
       "    <tr style=\"text-align: right;\">\n",
       "      <th></th>\n",
       "      <th>count</th>\n",
       "      <th>unique</th>\n",
       "      <th>top</th>\n",
       "      <th>freq</th>\n",
       "    </tr>\n",
       "    <tr>\n",
       "      <th>churn</th>\n",
       "      <th></th>\n",
       "      <th></th>\n",
       "      <th></th>\n",
       "      <th></th>\n",
       "    </tr>\n",
       "  </thead>\n",
       "  <tbody>\n",
       "    <tr>\n",
       "      <th>0</th>\n",
       "      <td>875</td>\n",
       "      <td>2</td>\n",
       "      <td>Male</td>\n",
       "      <td>495</td>\n",
       "    </tr>\n",
       "    <tr>\n",
       "      <th>1</th>\n",
       "      <td>589</td>\n",
       "      <td>2</td>\n",
       "      <td>Female</td>\n",
       "      <td>342</td>\n",
       "    </tr>\n",
       "  </tbody>\n",
       "</table>\n",
       "</div>"
      ],
      "text/plain": [
       "      count unique     top freq\n",
       "churn                          \n",
       "0       875      2    Male  495\n",
       "1       589      2  Female  342"
      ]
     },
     "execution_count": 159,
     "metadata": {},
     "output_type": "execute_result"
    }
   ],
   "source": [
    "churn[\"gender\"].describe()"
   ]
  },
  {
   "cell_type": "markdown",
   "id": "0a89c654",
   "metadata": {},
   "source": [
    "This table follows from the graph analysis."
   ]
  },
  {
   "cell_type": "markdown",
   "id": "58c7eb5b",
   "metadata": {},
   "source": [
    "### Payment Method vs Churn"
   ]
  },
  {
   "cell_type": "code",
   "execution_count": 160,
   "id": "c8fc3892",
   "metadata": {},
   "outputs": [
    {
     "data": {
      "image/png": "[encoded data removed]",
      "text/plain": [
       "<Figure size 640x480 with 1 Axes>"
      ]
     },
     "metadata": {},
     "output_type": "display_data"
    }
   ],
   "source": [
    "ax = sns.countplot(x=\"payment_method\", hue=\"churn\", data=df, palette=[\"pink\", \"blue\"])\n",
    "plt.title(\"Frequency of Payment Method Depending on Churn Value\")\n",
    "plt.xlabel(\"Payment Method\")\n",
    "plt.ylabel(\"Frequency of Churners/Non-Churners\")\n",
    "\n",
    "for c in ax.containers:\n",
    "    \n",
    "    # custom label calculates percent and add an empty string so 0 value bars don't have a number\n",
    "    labels = [f'{h/df[\"churn\"].count()*100:0.1f}%' if (h := v.get_height()) > 0 else '' for v in c]\n",
    "    \n",
    "    ax.bar_label(c, labels=labels, label_type='edge', fontsize=8) "
   ]
  },
  {
   "cell_type": "markdown",
   "id": "c6497b4a",
   "metadata": {},
   "source": [
    "Most non-churners and churners are using direct debit. \n",
    "\n",
    "However, this does not imply that customers using debit are more likely to churn/not churn.\n",
    "\n",
    "I will calculate the ratios of non-churners to churners to see if the rate of churning is different for the payment methods:"
   ]
  },
  {
   "cell_type": "code",
   "execution_count": 161,
   "id": "d17928f2",
   "metadata": {},
   "outputs": [
    {
     "name": "stdout",
     "output_type": "stream",
     "text": [
      "Percentage of CreditCard churners out of all CreditCard Customers: 40.6%\n",
      "Percentage of CreditCard non-churners out of all CreditCard Customers: 59.4%\n",
      "Percentage of DirectDebit churners out of all DirectDebit Customers: 40.1%\n",
      "Percentage of DirectDebit non-churners out of all DirectDebit Customers: 59.9%\n"
     ]
    }
   ],
   "source": [
    "print(\"Percentage of CreditCard churners out of all CreditCard Customers: %.1f%%\" % (((df[(df[\"payment_method\"] == \"CreditCard\") & (df[\"churn\"] == 1)].shape[0]) / (df[df[\"payment_method\"] == \"CreditCard\"].shape[0])) * 100))\n",
    "print(\"Percentage of CreditCard non-churners out of all CreditCard Customers: %.1f%%\" % (((df[(df[\"payment_method\"] == \"CreditCard\") & (df[\"churn\"] == 0)].shape[0]) / (df[df[\"payment_method\"] == \"CreditCard\"].shape[0])) * 100))\n",
    "print(\"Percentage of DirectDebit churners out of all DirectDebit Customers: %.1f%%\" % (((df[(df[\"payment_method\"] == \"DirectDebit\") & (df[\"churn\"] == 1)].shape[0]) / (df[df[\"payment_method\"] == \"DirectDebit\"].shape[0])) * 100))\n",
    "print(\"Percentage of DirectDebit non-churners out of all DirectDebit Customers: %.1f%%\" % (((df[(df[\"payment_method\"] == \"DirectDebit\") & (df[\"churn\"] == 0)].shape[0]) / (df[df[\"payment_method\"] == \"DirectDebit\"].shape[0])) * 100))"
   ]
  },
  {
   "cell_type": "markdown",
   "id": "dc6aa3cc",
   "metadata": {},
   "source": [
    "So, we can see that the ratios of churning/not churning is more or less the same for both creditcard and directdebit, suggesting that payment method does not influence churning."
   ]
  },
  {
   "cell_type": "markdown",
   "id": "aeb512a8",
   "metadata": {},
   "source": [
    "### Broadband Bundle vs Churn"
   ]
  },
  {
   "cell_type": "code",
   "execution_count": 162,
   "id": "556a86e9",
   "metadata": {},
   "outputs": [
    {
     "data": {
      "image/png": "[encoded data removed]",
      "text/plain": [
       "<Figure size 640x480 with 1 Axes>"
      ]
     },
     "metadata": {},
     "output_type": "display_data"
    }
   ],
   "source": [
    "ax = sns.countplot(x=\"broadband_bundle\", hue=\"churn\", data=df, palette=[\"darkred\", \"darkblue\"])\n",
    "plt.title(\"Frequency of Broadband Bundles Depending on Churn Value\")\n",
    "plt.xlabel(\"Broadband Bundle\")\n",
    "plt.ylabel(\"Frequency of Churners/Non-Churners\")\n",
    "\n",
    "for c in ax.containers:\n",
    "    \n",
    "    # custom label calculates percent and add an empty string so 0 value bars don't have a number\n",
    "    labels = [f'{h/df[\"churn\"].count()*100:0.1f}%' if (h := v.get_height()) > 0 else '' for v in c]\n",
    "    \n",
    "    ax.bar_label(c, labels=labels, label_type='edge', fontsize=8) "
   ]
  },
  {
   "cell_type": "markdown",
   "id": "c55a0ffc",
   "metadata": {},
   "source": [
    "Most customers with the 2GB bundle are non-churners. (About 10% of these customers are churners, compared to ~90% non-churners)\n",
    "\n",
    "Both 500Mbps and 1GB have more non-churners than churners as well, but there is a bigger percentage of churners than in 2GB. (More than a third of these customers are churners, compared to ~66% non-churners)\n",
    "\n",
    "Surprisingly, the majority of customers without a broadband bundle are churners (approximately ~66% are churners)\n",
    "\n",
    "Churning ratio is different for most values of broadband bundles, suggesting that this feature may have an effect on churning."
   ]
  },
  {
   "cell_type": "markdown",
   "id": "199556d5",
   "metadata": {},
   "source": [
    "### Tv Bundle vs Churn"
   ]
  },
  {
   "cell_type": "code",
   "execution_count": 164,
   "id": "1aebfd4f",
   "metadata": {},
   "outputs": [
    {
     "data": {
      "image/png": "[encoded data removed]",
      "text/plain": [
       "<Figure size 640x480 with 1 Axes>"
      ]
     },
     "metadata": {},
     "output_type": "display_data"
    }
   ],
   "source": [
    "ax = sns.countplot(x=\"tv_bundle\", hue=\"churn\", data=df, palette=[\"grey\", \"black\"])\n",
    "plt.title(\"Frequency of TV Bundles Depending on Churn Value\")\n",
    "plt.xlabel(\"TV Bundle\")\n",
    "plt.ylabel(\"Frequency of Churners/Non-Churners\")\n",
    "\n",
    "for c in ax.containers:\n",
    "    \n",
    "    # custom label calculates percent and add an empty string so 0 value bars don't have a number\n",
    "    labels = [f'{h/df[\"churn\"].count()*100:0.1f}%' if (h := v.get_height()) > 0 else '' for v in c]\n",
    "    \n",
    "    ax.bar_label(c, labels=labels, label_type='edge', fontsize=8) "
   ]
  },
  {
   "cell_type": "markdown",
   "id": "7b6b7890",
   "metadata": {},
   "source": [
    "All TV Bundle values seem to follow the same trend, with more non-churners than churners.\n",
    "\n",
    "The uniformity implies this feature may not contribute to churning."
   ]
  },
  {
   "cell_type": "markdown",
   "id": "2b8bac2f",
   "metadata": {},
   "source": [
    "## c) Suggest which features contribute to churning\n",
    "\n"
   ]
  },
  {
   "cell_type": "markdown",
   "id": "a7a61985",
   "metadata": {},
   "source": [
    "Based on our analysis from Task 2 (a) and (b), the features that have contributed most to churning are:\n",
    "\n",
    "- Number of support calls\n",
    "- Age\n",
    "- Balance\n",
    "- Has Broadband\n",
    "- Gender\n",
    "\n",
    "Location and number of products may contribute to churning as well but we cannot say for sure. This is because the data was similar for most attribute values, but not all. \n",
    "\n",
    "In terms of location location, only Munster showed different ratios of churning to non-churning compared to the other locations.\n",
    "\n",
    "In terms the number of products, only higher number of products showed different ratios of churning to non-churning, but they were very rare occurrences and could be interpreted as outliers, so the evidence is not very strong.\n",
    "\n",
    "Later on, during the modelling process, we can actually test if these features contribute to churning by training the model on different subsets of the data."
   ]
  },
  {
   "cell_type": "markdown",
   "id": "cdc8cee8",
   "metadata": {},
   "source": [
    "### Correlation\n",
    "\n",
    "I would also like to check the correlation values of each variable against churning in order to calculate the relationship between churning and each feature\n",
    "\n",
    "Note: We can only do this with numeric variables."
   ]
  },
  {
   "cell_type": "code",
   "execution_count": 165,
   "id": "acdcae4a",
   "metadata": {},
   "outputs": [],
   "source": [
    "df_c = df.corr(numeric_only=True)"
   ]
  },
  {
   "cell_type": "code",
   "execution_count": 166,
   "id": "2d4c90ed",
   "metadata": {},
   "outputs": [
    {
     "data": {
      "text/html": [
       "<div>\n",
       "<style scoped>\n",
       "    .dataframe tbody tr th:only-of-type {\n",
       "        vertical-align: middle;\n",
       "    }\n",
       "\n",
       "    .dataframe tbody tr th {\n",
       "        vertical-align: top;\n",
       "    }\n",
       "\n",
       "    .dataframe thead th {\n",
       "        text-align: right;\n",
       "    }\n",
       "</style>\n",
       "<table border=\"1\" class=\"dataframe\">\n",
       "  <thead>\n",
       "    <tr style=\"text-align: right;\">\n",
       "      <th></th>\n",
       "      <th>Variable 1</th>\n",
       "      <th>Variable 2</th>\n",
       "      <th>Correlation</th>\n",
       "    </tr>\n",
       "  </thead>\n",
       "  <tbody>\n",
       "    <tr>\n",
       "      <th>27</th>\n",
       "      <td>num_products</td>\n",
       "      <td>has_tv</td>\n",
       "      <td>0.519129</td>\n",
       "    </tr>\n",
       "    <tr>\n",
       "      <th>26</th>\n",
       "      <td>num_products</td>\n",
       "      <td>has_broadband</td>\n",
       "      <td>0.448165</td>\n",
       "    </tr>\n",
       "    <tr>\n",
       "      <th>7</th>\n",
       "      <td>age</td>\n",
       "      <td>churn</td>\n",
       "      <td>0.344197</td>\n",
       "    </tr>\n",
       "    <tr>\n",
       "      <th>35</th>\n",
       "      <td>num_support_calls</td>\n",
       "      <td>churn</td>\n",
       "      <td>0.254357</td>\n",
       "    </tr>\n",
       "    <tr>\n",
       "      <th>25</th>\n",
       "      <td>balance</td>\n",
       "      <td>churn</td>\n",
       "      <td>0.196119</td>\n",
       "    </tr>\n",
       "    <tr>\n",
       "      <th>6</th>\n",
       "      <td>age</td>\n",
       "      <td>num_support_calls</td>\n",
       "      <td>0.081512</td>\n",
       "    </tr>\n",
       "    <tr>\n",
       "      <th>2</th>\n",
       "      <td>age</td>\n",
       "      <td>balance</td>\n",
       "      <td>0.063804</td>\n",
       "    </tr>\n",
       "    <tr>\n",
       "      <th>24</th>\n",
       "      <td>balance</td>\n",
       "      <td>num_support_calls</td>\n",
       "      <td>0.044120</td>\n",
       "    </tr>\n",
       "    <tr>\n",
       "      <th>34</th>\n",
       "      <td>has_tv</td>\n",
       "      <td>churn</td>\n",
       "      <td>0.036504</td>\n",
       "    </tr>\n",
       "    <tr>\n",
       "      <th>12</th>\n",
       "      <td>credit_score</td>\n",
       "      <td>has_tv</td>\n",
       "      <td>0.033569</td>\n",
       "    </tr>\n",
       "    <tr>\n",
       "      <th>0</th>\n",
       "      <td>age</td>\n",
       "      <td>credit_score</td>\n",
       "      <td>0.021505</td>\n",
       "    </tr>\n",
       "    <tr>\n",
       "      <th>19</th>\n",
       "      <td>membership_length</td>\n",
       "      <td>num_support_calls</td>\n",
       "      <td>0.021335</td>\n",
       "    </tr>\n",
       "    <tr>\n",
       "      <th>8</th>\n",
       "      <td>credit_score</td>\n",
       "      <td>membership_length</td>\n",
       "      <td>0.004821</td>\n",
       "    </tr>\n",
       "    <tr>\n",
       "      <th>10</th>\n",
       "      <td>credit_score</td>\n",
       "      <td>num_products</td>\n",
       "      <td>0.002195</td>\n",
       "    </tr>\n",
       "    <tr>\n",
       "      <th>15</th>\n",
       "      <td>membership_length</td>\n",
       "      <td>balance</td>\n",
       "      <td>-0.000839</td>\n",
       "    </tr>\n",
       "    <tr>\n",
       "      <th>14</th>\n",
       "      <td>credit_score</td>\n",
       "      <td>churn</td>\n",
       "      <td>-0.002826</td>\n",
       "    </tr>\n",
       "    <tr>\n",
       "      <th>1</th>\n",
       "      <td>age</td>\n",
       "      <td>membership_length</td>\n",
       "      <td>-0.002986</td>\n",
       "    </tr>\n",
       "    <tr>\n",
       "      <th>20</th>\n",
       "      <td>membership_length</td>\n",
       "      <td>churn</td>\n",
       "      <td>-0.007129</td>\n",
       "    </tr>\n",
       "    <tr>\n",
       "      <th>18</th>\n",
       "      <td>membership_length</td>\n",
       "      <td>has_tv</td>\n",
       "      <td>-0.009885</td>\n",
       "    </tr>\n",
       "    <tr>\n",
       "      <th>33</th>\n",
       "      <td>has_tv</td>\n",
       "      <td>num_support_calls</td>\n",
       "      <td>-0.010959</td>\n",
       "    </tr>\n",
       "    <tr>\n",
       "      <th>5</th>\n",
       "      <td>age</td>\n",
       "      <td>has_tv</td>\n",
       "      <td>-0.017625</td>\n",
       "    </tr>\n",
       "    <tr>\n",
       "      <th>9</th>\n",
       "      <td>credit_score</td>\n",
       "      <td>balance</td>\n",
       "      <td>-0.024408</td>\n",
       "    </tr>\n",
       "    <tr>\n",
       "      <th>3</th>\n",
       "      <td>age</td>\n",
       "      <td>num_products</td>\n",
       "      <td>-0.027048</td>\n",
       "    </tr>\n",
       "    <tr>\n",
       "      <th>13</th>\n",
       "      <td>credit_score</td>\n",
       "      <td>num_support_calls</td>\n",
       "      <td>-0.027466</td>\n",
       "    </tr>\n",
       "    <tr>\n",
       "      <th>17</th>\n",
       "      <td>membership_length</td>\n",
       "      <td>has_broadband</td>\n",
       "      <td>-0.028796</td>\n",
       "    </tr>\n",
       "    <tr>\n",
       "      <th>16</th>\n",
       "      <td>membership_length</td>\n",
       "      <td>num_products</td>\n",
       "      <td>-0.033124</td>\n",
       "    </tr>\n",
       "    <tr>\n",
       "      <th>28</th>\n",
       "      <td>num_products</td>\n",
       "      <td>num_support_calls</td>\n",
       "      <td>-0.042317</td>\n",
       "    </tr>\n",
       "    <tr>\n",
       "      <th>11</th>\n",
       "      <td>credit_score</td>\n",
       "      <td>has_broadband</td>\n",
       "      <td>-0.042484</td>\n",
       "    </tr>\n",
       "    <tr>\n",
       "      <th>29</th>\n",
       "      <td>num_products</td>\n",
       "      <td>churn</td>\n",
       "      <td>-0.077145</td>\n",
       "    </tr>\n",
       "    <tr>\n",
       "      <th>4</th>\n",
       "      <td>age</td>\n",
       "      <td>has_broadband</td>\n",
       "      <td>-0.079479</td>\n",
       "    </tr>\n",
       "    <tr>\n",
       "      <th>31</th>\n",
       "      <td>has_broadband</td>\n",
       "      <td>num_support_calls</td>\n",
       "      <td>-0.088869</td>\n",
       "    </tr>\n",
       "    <tr>\n",
       "      <th>22</th>\n",
       "      <td>balance</td>\n",
       "      <td>has_broadband</td>\n",
       "      <td>-0.120082</td>\n",
       "    </tr>\n",
       "    <tr>\n",
       "      <th>23</th>\n",
       "      <td>balance</td>\n",
       "      <td>has_tv</td>\n",
       "      <td>-0.162206</td>\n",
       "    </tr>\n",
       "    <tr>\n",
       "      <th>21</th>\n",
       "      <td>balance</td>\n",
       "      <td>num_products</td>\n",
       "      <td>-0.196959</td>\n",
       "    </tr>\n",
       "    <tr>\n",
       "      <th>32</th>\n",
       "      <td>has_broadband</td>\n",
       "      <td>churn</td>\n",
       "      <td>-0.298261</td>\n",
       "    </tr>\n",
       "    <tr>\n",
       "      <th>30</th>\n",
       "      <td>has_broadband</td>\n",
       "      <td>has_tv</td>\n",
       "      <td>-0.425051</td>\n",
       "    </tr>\n",
       "  </tbody>\n",
       "</table>\n",
       "</div>"
      ],
      "text/plain": [
       "           Variable 1         Variable 2  Correlation\n",
       "27       num_products             has_tv     0.519129\n",
       "26       num_products      has_broadband     0.448165\n",
       "7                 age              churn     0.344197\n",
       "35  num_support_calls              churn     0.254357\n",
       "25            balance              churn     0.196119\n",
       "6                 age  num_support_calls     0.081512\n",
       "2                 age            balance     0.063804\n",
       "24            balance  num_support_calls     0.044120\n",
       "34             has_tv              churn     0.036504\n",
       "12       credit_score             has_tv     0.033569\n",
       "0                 age       credit_score     0.021505\n",
       "19  membership_length  num_support_calls     0.021335\n",
       "8        credit_score  membership_length     0.004821\n",
       "10       credit_score       num_products     0.002195\n",
       "15  membership_length            balance    -0.000839\n",
       "14       credit_score              churn    -0.002826\n",
       "1                 age  membership_length    -0.002986\n",
       "20  membership_length              churn    -0.007129\n",
       "18  membership_length             has_tv    -0.009885\n",
       "33             has_tv  num_support_calls    -0.010959\n",
       "5                 age             has_tv    -0.017625\n",
       "9        credit_score            balance    -0.024408\n",
       "3                 age       num_products    -0.027048\n",
       "13       credit_score  num_support_calls    -0.027466\n",
       "17  membership_length      has_broadband    -0.028796\n",
       "16  membership_length       num_products    -0.033124\n",
       "28       num_products  num_support_calls    -0.042317\n",
       "11       credit_score      has_broadband    -0.042484\n",
       "29       num_products              churn    -0.077145\n",
       "4                 age      has_broadband    -0.079479\n",
       "31      has_broadband  num_support_calls    -0.088869\n",
       "22            balance      has_broadband    -0.120082\n",
       "23            balance             has_tv    -0.162206\n",
       "21            balance       num_products    -0.196959\n",
       "32      has_broadband              churn    -0.298261\n",
       "30      has_broadband             has_tv    -0.425051"
      ]
     },
     "execution_count": 166,
     "metadata": {},
     "output_type": "execute_result"
    }
   ],
   "source": [
    "# we could turn this into a sorted DataFrame to show us a ranking for the pairs of variables\n",
    "# with the highest and lowest correlation\n",
    "from itertools import combinations\n",
    "rows = []\n",
    "for v1, v2 in combinations(df_c.columns, 2):\n",
    "    rows.append({\"Variable 1\": v1, \"Variable 2\": v2, \"Correlation\": df_c[v1][v2]})\n",
    "# show the ranked list\n",
    "pd.DataFrame(rows).sort_values(by=\"Correlation\", ascending=False)"
   ]
  },
  {
   "cell_type": "markdown",
   "id": "a5a3bfa2",
   "metadata": {},
   "source": [
    "The most significant churn correlations are:\n",
    "1) age\tvs churn = 0.344197\n",
    "2) num_support_calls vs churn = 0.254357\n",
    "3) has_broadband vs churn = - 0.298261\n",
    "\n",
    "These values are very close to 0, showing that there is only a weak relationship beween these features and churning. \n",
    "\n",
    "The data and evidence point to these features not contributing very much to churning, although they are the features with the strongest relationship we can find in the dataset."
   ]
  },
  {
   "cell_type": "markdown",
   "id": "ea915dde",
   "metadata": {},
   "source": [
    "# Task 3: Classification"
   ]
  },
  {
   "cell_type": "markdown",
   "id": "4f41e556",
   "metadata": {},
   "source": [
    "## a) Build 2 binary classification models to differentiate between churners and non-churners."
   ]
  },
  {
   "cell_type": "markdown",
   "id": "100ec092",
   "metadata": {},
   "source": [
    "Before we can build our classification models, we first have to make our data and target from our dataset.\n",
    "\n",
    "Our target will be the churn feature - what we would like to predict.\n",
    "\n",
    "Our data must be entirely numerical, so some preprocessing is needed."
   ]
  },
  {
   "cell_type": "code",
   "execution_count": 556,
   "id": "2ac6efdf",
   "metadata": {},
   "outputs": [],
   "source": [
    "target = df[\"churn\"]"
   ]
  },
  {
   "cell_type": "markdown",
   "id": "7432b501",
   "metadata": {},
   "source": [
    "First, I will create a new dataframe for our data. \n",
    "\n",
    "It will be a copy of our current dataframe df, minus some features, such as our target feature churn, and the binned data (age_bracket, balance_bracket, etc)"
   ]
  },
  {
   "cell_type": "code",
   "execution_count": 557,
   "id": "7c447b5f",
   "metadata": {},
   "outputs": [],
   "source": [
    "data = df.drop(columns=[\"age_bracket\", \"credit_score_bracket\", \"membership_length_bracket\",\"balance_bracket\", \"churn\"]).copy()"
   ]
  },
  {
   "cell_type": "code",
   "execution_count": 558,
   "id": "de9548ee",
   "metadata": {},
   "outputs": [
    {
     "data": {
      "text/plain": [
       "Index(['age', 'location', 'gender', 'credit_score', 'membership_length',\n",
       "       'balance', 'payment_method', 'num_products', 'has_broadband', 'has_tv',\n",
       "       'broadband_bundle', 'tv_bundle', 'num_support_calls'],\n",
       "      dtype='object')"
      ]
     },
     "execution_count": 558,
     "metadata": {},
     "output_type": "execute_result"
    }
   ],
   "source": [
    "data.columns"
   ]
  },
  {
   "cell_type": "markdown",
   "id": "d12b0c08",
   "metadata": {},
   "source": [
    "Now we must convert our categorical features to numerical values. I will do this using the function pd.get_dummies"
   ]
  },
  {
   "cell_type": "code",
   "execution_count": 559,
   "id": "7f8bd269",
   "metadata": {},
   "outputs": [],
   "source": [
    "data = pd.get_dummies(data)"
   ]
  },
  {
   "cell_type": "code",
   "execution_count": 591,
   "id": "6dd5bb0a",
   "metadata": {},
   "outputs": [
    {
     "data": {
      "text/html": [
       "<div>\n",
       "<style scoped>\n",
       "    .dataframe tbody tr th:only-of-type {\n",
       "        vertical-align: middle;\n",
       "    }\n",
       "\n",
       "    .dataframe tbody tr th {\n",
       "        vertical-align: top;\n",
       "    }\n",
       "\n",
       "    .dataframe thead th {\n",
       "        text-align: right;\n",
       "    }\n",
       "</style>\n",
       "<table border=\"1\" class=\"dataframe\">\n",
       "  <thead>\n",
       "    <tr style=\"text-align: right;\">\n",
       "      <th></th>\n",
       "      <th>age</th>\n",
       "      <th>credit_score</th>\n",
       "      <th>membership_length</th>\n",
       "      <th>balance</th>\n",
       "      <th>num_products</th>\n",
       "      <th>has_broadband</th>\n",
       "      <th>has_tv</th>\n",
       "      <th>num_support_calls</th>\n",
       "      <th>location_Connacht</th>\n",
       "      <th>location_Leinster</th>\n",
       "      <th>...</th>\n",
       "      <th>gender_Male</th>\n",
       "      <th>payment_method_CreditCard</th>\n",
       "      <th>payment_method_DirectDebit</th>\n",
       "      <th>broadband_bundle_1GB</th>\n",
       "      <th>broadband_bundle_2GB</th>\n",
       "      <th>broadband_bundle_500Mbps</th>\n",
       "      <th>broadband_bundle_N/A</th>\n",
       "      <th>tv_bundle_Basic</th>\n",
       "      <th>tv_bundle_N/A</th>\n",
       "      <th>tv_bundle_Premium</th>\n",
       "    </tr>\n",
       "    <tr>\n",
       "      <th>customer_id</th>\n",
       "      <th></th>\n",
       "      <th></th>\n",
       "      <th></th>\n",
       "      <th></th>\n",
       "      <th></th>\n",
       "      <th></th>\n",
       "      <th></th>\n",
       "      <th></th>\n",
       "      <th></th>\n",
       "      <th></th>\n",
       "      <th></th>\n",
       "      <th></th>\n",
       "      <th></th>\n",
       "      <th></th>\n",
       "      <th></th>\n",
       "      <th></th>\n",
       "      <th></th>\n",
       "      <th></th>\n",
       "      <th></th>\n",
       "      <th></th>\n",
       "      <th></th>\n",
       "    </tr>\n",
       "  </thead>\n",
       "  <tbody>\n",
       "    <tr>\n",
       "      <th>71167</th>\n",
       "      <td>38.0</td>\n",
       "      <td>577</td>\n",
       "      <td>24</td>\n",
       "      <td>668.02</td>\n",
       "      <td>1</td>\n",
       "      <td>True</td>\n",
       "      <td>False</td>\n",
       "      <td>2</td>\n",
       "      <td>0</td>\n",
       "      <td>1</td>\n",
       "      <td>...</td>\n",
       "      <td>0</td>\n",
       "      <td>1</td>\n",
       "      <td>0</td>\n",
       "      <td>0</td>\n",
       "      <td>1</td>\n",
       "      <td>0</td>\n",
       "      <td>0</td>\n",
       "      <td>0</td>\n",
       "      <td>1</td>\n",
       "      <td>0</td>\n",
       "    </tr>\n",
       "    <tr>\n",
       "      <th>38777</th>\n",
       "      <td>27.0</td>\n",
       "      <td>698</td>\n",
       "      <td>52</td>\n",
       "      <td>531.28</td>\n",
       "      <td>1</td>\n",
       "      <td>False</td>\n",
       "      <td>True</td>\n",
       "      <td>0</td>\n",
       "      <td>0</td>\n",
       "      <td>0</td>\n",
       "      <td>...</td>\n",
       "      <td>0</td>\n",
       "      <td>1</td>\n",
       "      <td>0</td>\n",
       "      <td>0</td>\n",
       "      <td>0</td>\n",
       "      <td>0</td>\n",
       "      <td>1</td>\n",
       "      <td>1</td>\n",
       "      <td>0</td>\n",
       "      <td>0</td>\n",
       "    </tr>\n",
       "    <tr>\n",
       "      <th>76011</th>\n",
       "      <td>35.0</td>\n",
       "      <td>739</td>\n",
       "      <td>25</td>\n",
       "      <td>0.00</td>\n",
       "      <td>1</td>\n",
       "      <td>True</td>\n",
       "      <td>False</td>\n",
       "      <td>1</td>\n",
       "      <td>1</td>\n",
       "      <td>0</td>\n",
       "      <td>...</td>\n",
       "      <td>1</td>\n",
       "      <td>0</td>\n",
       "      <td>1</td>\n",
       "      <td>0</td>\n",
       "      <td>1</td>\n",
       "      <td>0</td>\n",
       "      <td>0</td>\n",
       "      <td>0</td>\n",
       "      <td>1</td>\n",
       "      <td>0</td>\n",
       "    </tr>\n",
       "    <tr>\n",
       "      <th>62859</th>\n",
       "      <td>38.0</td>\n",
       "      <td>628</td>\n",
       "      <td>39</td>\n",
       "      <td>530.97</td>\n",
       "      <td>1</td>\n",
       "      <td>True</td>\n",
       "      <td>False</td>\n",
       "      <td>0</td>\n",
       "      <td>0</td>\n",
       "      <td>1</td>\n",
       "      <td>...</td>\n",
       "      <td>1</td>\n",
       "      <td>0</td>\n",
       "      <td>1</td>\n",
       "      <td>0</td>\n",
       "      <td>1</td>\n",
       "      <td>0</td>\n",
       "      <td>0</td>\n",
       "      <td>0</td>\n",
       "      <td>1</td>\n",
       "      <td>0</td>\n",
       "    </tr>\n",
       "    <tr>\n",
       "      <th>53782</th>\n",
       "      <td>29.0</td>\n",
       "      <td>557</td>\n",
       "      <td>49</td>\n",
       "      <td>561.10</td>\n",
       "      <td>2</td>\n",
       "      <td>True</td>\n",
       "      <td>True</td>\n",
       "      <td>1</td>\n",
       "      <td>0</td>\n",
       "      <td>0</td>\n",
       "      <td>...</td>\n",
       "      <td>0</td>\n",
       "      <td>0</td>\n",
       "      <td>1</td>\n",
       "      <td>0</td>\n",
       "      <td>0</td>\n",
       "      <td>1</td>\n",
       "      <td>0</td>\n",
       "      <td>1</td>\n",
       "      <td>0</td>\n",
       "      <td>0</td>\n",
       "    </tr>\n",
       "  </tbody>\n",
       "</table>\n",
       "<p>5 rows × 23 columns</p>\n",
       "</div>"
      ],
      "text/plain": [
       "              age  credit_score  membership_length  balance  num_products  \\\n",
       "customer_id                                                                 \n",
       "71167        38.0           577                 24   668.02             1   \n",
       "38777        27.0           698                 52   531.28             1   \n",
       "76011        35.0           739                 25     0.00             1   \n",
       "62859        38.0           628                 39   530.97             1   \n",
       "53782        29.0           557                 49   561.10             2   \n",
       "\n",
       "             has_broadband  has_tv  num_support_calls  location_Connacht  \\\n",
       "customer_id                                                                \n",
       "71167                 True   False                  2                  0   \n",
       "38777                False    True                  0                  0   \n",
       "76011                 True   False                  1                  1   \n",
       "62859                 True   False                  0                  0   \n",
       "53782                 True    True                  1                  0   \n",
       "\n",
       "             location_Leinster  ...  gender_Male  payment_method_CreditCard  \\\n",
       "customer_id                     ...                                           \n",
       "71167                        1  ...            0                          1   \n",
       "38777                        0  ...            0                          1   \n",
       "76011                        0  ...            1                          0   \n",
       "62859                        1  ...            1                          0   \n",
       "53782                        0  ...            0                          0   \n",
       "\n",
       "             payment_method_DirectDebit  broadband_bundle_1GB  \\\n",
       "customer_id                                                     \n",
       "71167                                 0                     0   \n",
       "38777                                 0                     0   \n",
       "76011                                 1                     0   \n",
       "62859                                 1                     0   \n",
       "53782                                 1                     0   \n",
       "\n",
       "             broadband_bundle_2GB  broadband_bundle_500Mbps  \\\n",
       "customer_id                                                   \n",
       "71167                           1                         0   \n",
       "38777                           0                         0   \n",
       "76011                           1                         0   \n",
       "62859                           1                         0   \n",
       "53782                           0                         1   \n",
       "\n",
       "             broadband_bundle_N/A  tv_bundle_Basic  tv_bundle_N/A  \\\n",
       "customer_id                                                         \n",
       "71167                           0                0              1   \n",
       "38777                           1                1              0   \n",
       "76011                           0                0              1   \n",
       "62859                           0                0              1   \n",
       "53782                           0                1              0   \n",
       "\n",
       "             tv_bundle_Premium  \n",
       "customer_id                     \n",
       "71167                        0  \n",
       "38777                        0  \n",
       "76011                        0  \n",
       "62859                        0  \n",
       "53782                        0  \n",
       "\n",
       "[5 rows x 23 columns]"
      ]
     },
     "execution_count": 591,
     "metadata": {},
     "output_type": "execute_result"
    }
   ],
   "source": [
    "data.head(5)"
   ]
  },
  {
   "cell_type": "markdown",
   "id": "93caee87",
   "metadata": {},
   "source": [
    "Our data is in the correct form for modelling now. \n",
    "\n",
    "So, I wil split the data into 70% training data and 30% testing data. \n",
    "\n",
    "(After some trial and error, I have found that this is the best ratio for maximum accuracy.)"
   ]
  },
  {
   "cell_type": "code",
   "execution_count": 741,
   "id": "40b71dcd",
   "metadata": {},
   "outputs": [],
   "source": [
    "train_data, test_data, train_target, test_target = train_test_split(data, target, test_size=0.3, random_state=1)\n",
    "\n",
    "#Using dummy values produces an error with predicting the model. The error is resolved when the data and target are converted to numpy arrays.\n",
    "train_data = train_data.values\n",
    "test_data = test_data.values\n",
    "train_target = train_target.values\n",
    "test_target = test_target.values"
   ]
  },
  {
   "cell_type": "code",
   "execution_count": 713,
   "id": "3ce79451",
   "metadata": {},
   "outputs": [
    {
     "name": "stdout",
     "output_type": "stream",
     "text": [
      "Training set has 1024 examples\n",
      "Test set has 440 examples\n"
     ]
    }
   ],
   "source": [
    "print(\"Training set has %d examples\" % train_data.shape[0])\n",
    "print(\"Test set has %d examples\" % test_data.shape[0])"
   ]
  },
  {
   "cell_type": "markdown",
   "id": "9411f6a4",
   "metadata": {},
   "source": [
    "Now we can fit the model with our training data and target.\n",
    "\n",
    "Afterwards, the model can predict the target value given some test data.\n",
    "\n",
    "I am going to create 2 classification models - a K-Nearest Neighbor classifier model and a Decision Tree classifier model."
   ]
  },
  {
   "cell_type": "markdown",
   "id": "0c2ff7c2",
   "metadata": {},
   "source": [
    "### K-Nearest Neighbor classifier model\n",
    "Currently, we do not know the best value for k. I will recreate the K Nearest Neighbors model with different values of k to see which one is the most ideal, and then compare the best one with the decision tree model."
   ]
  },
  {
   "cell_type": "code",
   "execution_count": 714,
   "id": "039de0b7",
   "metadata": {},
   "outputs": [],
   "source": [
    "#Train K-Nearest Neighbor classifier from k = 1 to k = 30\n",
    "\n",
    "#Average accuracy of eack k value\n",
    "mean_accuracies = {}\n",
    "\n",
    "for k in range(1, 31):\n",
    "    #Apply KNN for current k\n",
    "    knn = KNeighborsClassifier(n_neighbors=k)\n",
    "    #Calculate mean accuracy across 5 folds\n",
    "    fold_scores = cross_val_score(knn, test_data, test_target, cv=5, scoring=\"accuracy\")\n",
    "    mean_accuracies[k] = fold_scores.mean()"
   ]
  },
  {
   "cell_type": "code",
   "execution_count": 715,
   "id": "4cfcc58a",
   "metadata": {},
   "outputs": [
    {
     "data": {
      "text/plain": [
       "(1.0, 30.0)"
      ]
     },
     "execution_count": 715,
     "metadata": {},
     "output_type": "execute_result"
    },
    {
     "data": {
      "image/png": "[encoded data removed]",
      "text/plain": [
       "<Figure size 640x480 with 1 Axes>"
      ]
     },
     "metadata": {},
     "output_type": "display_data"
    }
   ],
   "source": [
    "#Generate plot of all ks\n",
    "df_mean_accuracies = pd.Series(mean_accuracies)\n",
    "ax = df_mean_accuracies.plot(lw=2, marker=\"o\", color=\"coral\")\n",
    "ax.set_ylabel(\"Cross-Validation Accuracy\")\n",
    "ax.set_xlabel(\"Number of Neighbours (k)\")\n",
    "ax.yaxis.grid()\n",
    "ax.set_xlim(1, 30)"
   ]
  },
  {
   "cell_type": "code",
   "execution_count": 716,
   "id": "67d8b44c",
   "metadata": {},
   "outputs": [
    {
     "name": "stdout",
     "output_type": "stream",
     "text": [
      "The best value for k = 20.\n"
     ]
    }
   ],
   "source": [
    "bestk = df_mean_accuracies.sort_values(ascending=False).index[0]\n",
    "print(\"The best value for k = %d.\" % bestk)"
   ]
  },
  {
   "cell_type": "code",
   "execution_count": 717,
   "id": "1a154b6d",
   "metadata": {},
   "outputs": [],
   "source": [
    "#Train K-Nearest Neighbor classifier with best value\n",
    "knn = KNeighborsClassifier(n_neighbors=bestk)\n",
    "knn_model = knn.fit(train_data, train_target)\n",
    "\n",
    "#Make predictions for test set\n",
    "knn_predicted = knn.predict(test_data)"
   ]
  },
  {
   "cell_type": "markdown",
   "id": "01a2fb1e",
   "metadata": {},
   "source": [
    "## Decision Tree"
   ]
  },
  {
   "cell_type": "code",
   "execution_count": 742,
   "id": "755a0916",
   "metadata": {},
   "outputs": [],
   "source": [
    "#Train classifier\n",
    "dt = DecisionTreeClassifier()\n",
    "md = dt.fit(train_data, train_target)"
   ]
  },
  {
   "cell_type": "code",
   "execution_count": 743,
   "id": "6950e827",
   "metadata": {},
   "outputs": [],
   "source": [
    "#Make predictions for test set\n",
    "dt_predicted = dt.predict(test_data)"
   ]
  },
  {
   "cell_type": "markdown",
   "id": "e4dcb068",
   "metadata": {},
   "source": [
    "## b) Compare the performance of the 2 classification models using an appropriate evaluation strategy."
   ]
  },
  {
   "cell_type": "markdown",
   "id": "51376484",
   "metadata": {},
   "source": [
    "I will compare the performance of the 2 classification models by evaluating their accuracy and f1 score, as well as using a confusion matrix to see where the model goes wrong."
   ]
  },
  {
   "cell_type": "code",
   "execution_count": 744,
   "id": "ae682430",
   "metadata": {},
   "outputs": [
    {
     "name": "stdout",
     "output_type": "stream",
     "text": [
      "Accuracy of K-Nearest Neighbor Model at k=1: 0.664\n",
      "Accuracy of Decision Tree Model: 0.734\n",
      "\n",
      "K-Nearest Neighbor Model F1(Churn) = 0.408\n",
      "K-Nearest Neighbor Model F1(Non-Churn) = 0.765\n",
      "Decision Tree Model F1(Churn) = 0.657\n",
      "Decision Tree Model F1(Non-Churn) = 0.783\n"
     ]
    }
   ],
   "source": [
    "#Evaluate accuracy and F1 score of both models to compare\n",
    "knn_accuracy = accuracy_score(test_target, knn_predicted)\n",
    "dt_accuracy = accuracy_score(test_target, dt_predicted)\n",
    "print(\"Accuracy of K-Nearest Neighbor Model at k=1: %.3f\" % knn_accuracy)\n",
    "print(\"Accuracy of Decision Tree Model: %.3f\" % dt_accuracy)\n",
    "\n",
    "print()\n",
    "\n",
    "print(\"K-Nearest Neighbor Model F1(Churn) = %.3f\" % f1_score(test_target, knn_predicted, pos_label=1))\n",
    "print(\"K-Nearest Neighbor Model F1(Non-Churn) = %.3f\" % f1_score(test_target, knn_predicted, pos_label=0))\n",
    "print(\"Decision Tree Model F1(Churn) = %.3f\" % f1_score(test_target, dt_predicted, pos_label=1))\n",
    "print(\"Decision Tree Model F1(Non-Churn) = %.3f\" % f1_score(test_target, dt_predicted, pos_label=0))"
   ]
  },
  {
   "cell_type": "code",
   "execution_count": 745,
   "id": "4b271c54",
   "metadata": {},
   "outputs": [
    {
     "data": {
      "text/plain": [
       "Text(0.5, 1.0, 'Confusion Matrix of K-Nearest Neighbor Model')"
      ]
     },
     "execution_count": 745,
     "metadata": {},
     "output_type": "execute_result"
    },
    {
     "data": {
      "image/png": "[encoded data removed]",
      "text/plain": [
       "<Figure size 640x480 with 2 Axes>"
      ]
     },
     "metadata": {},
     "output_type": "display_data"
    }
   ],
   "source": [
    "knn_cm = confusion_matrix(test_target, knn_predicted)\n",
    "ConfusionMatrixDisplay(confusion_matrix=knn_cm, display_labels=knn.classes_).plot()\n",
    "plt.title(\"Confusion Matrix of K-Nearest Neighbor Model\")"
   ]
  },
  {
   "cell_type": "code",
   "execution_count": 746,
   "id": "9515c721",
   "metadata": {},
   "outputs": [
    {
     "data": {
      "text/plain": [
       "Text(0.5, 1.0, 'Confusion Matrix of Decision Tree Model')"
      ]
     },
     "execution_count": 746,
     "metadata": {},
     "output_type": "execute_result"
    },
    {
     "data": {
      "image/png": "[encoded data removed]",
      "text/plain": [
       "<Figure size 640x480 with 2 Axes>"
      ]
     },
     "metadata": {},
     "output_type": "display_data"
    }
   ],
   "source": [
    "dt_cm = confusion_matrix(test_target, dt_predicted)\n",
    "ConfusionMatrixDisplay(confusion_matrix=dt_cm, display_labels=dt.classes_).plot()\n",
    "plt.title(\"Confusion Matrix of Decision Tree Model\")"
   ]
  },
  {
   "cell_type": "markdown",
   "id": "5686af3e",
   "metadata": {},
   "source": [
    "## Report and discuss the evaluation results"
   ]
  },
  {
   "cell_type": "markdown",
   "id": "6d9843e8",
   "metadata": {},
   "source": [
    "The decision tree model is more accurate than the K-Nearest neighbors model, even with the best k value. \n",
    "\n",
    "The KNN model correctly classified churners and non-churners 66.4% of the time, compared to the DT model's ~73.4%.\n",
    "\n",
    "F1 score is useful in determining the accuracy of the model here as the number of non-churners in our dataset is much greater than the number of churners. \n",
    "\n",
    "In both models, the F1 score is higher for non-churning, meaning the models predict non-churning better. The models have similar non-churning F1 scores, with the decision tree model being slightly more accurate. \n",
    "\n",
    "However, the decision tree model is much better at predicting churning than the KNN model. In fact, it is KNN's lack of accuracy in predicting churning that makes it worse overall than the decision tree model.\n",
    "\n",
    "The decision tree model has a better balance in predicting both churning and non-churning.\n",
    "\n",
    "#### KNN Confusion Matrix\n",
    "\n",
    "Of the ~175 customers that churned (lower two boxes), the model predicted ~50 of them to churn. (predicted correctly)\n",
    "\n",
    "Of the ~265 customers that did not churn (upper two boxes), the model predicted ~240 of them to not churn. (predicted correctly)\n",
    "\n",
    "Therefore, this model is very good at predicting non-churning, but rather poor at predicting churning.\n",
    "\n",
    "#### Decision Tree Confusion Matrix\n",
    "\n",
    "Of the ~175 customers that churned (lower two boxes), the model predicted ~110 of them to churn. (predicted correctly)\n",
    "\n",
    "Of the ~265 customers that did not churn (upper two boxes), the model predicted ~210 of them to not churn. (predicted correctly)\n",
    "\n",
    "Therefore, this model is very good at predicting churning, and good at predicting non-churning.\n",
    "\n",
    "#### Direct Comparison\n",
    "\n",
    "The KNN model predicts non-churning more accurately (~240 correct predictions/true negatives compared to DT's ~210).\n",
    "\n",
    "The DT model predicts churning much more accurately (~110 correct predictions/true positives compared to KNN's ~50)"
   ]
  },
  {
   "cell_type": "markdown",
   "id": "7affef4a",
   "metadata": {},
   "source": [
    "## c) Experiment with applying the same classifiers in combination with different subsets of descriptive features."
   ]
  },
  {
   "cell_type": "markdown",
   "id": "68ac969a",
   "metadata": {},
   "source": [
    "I have creates 8 subsets of the descriptive features below:\n",
    "\n",
    "#### fullset \n",
    "Contains the entire set of features\n",
    "\n",
    "#### subsetWithoutNA \n",
    "Contains the entire set of features, excluding \"N/A\" columns for TV Bundles and Broadband Bundles.\n",
    "\n",
    "#### subsetWithBestFeatures\n",
    "Contains the features we predicted to contribute the most to churning from Task 2.\n",
    "\n",
    "#### subsetNumerical\n",
    "Contains the numerical features only\n",
    "\n",
    "#### subsetCategorical\n",
    "Contains the categorical features only\n",
    "\n",
    "#### subsetBundles\n",
    "Contains the TV and Broadband bundles only\n",
    "\n",
    "#### subsetWithPossibleBestFeatures\n",
    "Contains the \"best\" features, as well as location, and number of products. We were unsure if these extra features contributed to churning, so we'll see if they result in more accurate models."
   ]
  },
  {
   "cell_type": "code",
   "execution_count": 772,
   "id": "8e725024",
   "metadata": {},
   "outputs": [],
   "source": [
    "fullset = ['age', 'credit_score', 'membership_length', 'balance', 'num_products',\n",
    "       'has_broadband', 'has_tv', 'num_support_calls', 'location_Connacht',\n",
    "       'location_Leinster', 'location_Munster', 'location_Ulster',\n",
    "       'gender_Female', 'gender_Male', 'payment_method_CreditCard',\n",
    "       'payment_method_DirectDebit', 'broadband_bundle_1GB',\n",
    "       'broadband_bundle_2GB', 'broadband_bundle_500Mbps',\n",
    "       'broadband_bundle_N/A', 'tv_bundle_Basic', 'tv_bundle_N/A',\n",
    "       'tv_bundle_Premium']\n",
    "\n",
    "subsetWithoutNA = ['age', 'credit_score', 'membership_length', 'balance', 'num_products',\n",
    "       'has_broadband', 'has_tv', 'num_support_calls', 'location_Connacht',\n",
    "       'location_Leinster', 'location_Munster', 'location_Ulster',\n",
    "       'gender_Female', 'gender_Male', 'payment_method_CreditCard',\n",
    "       'payment_method_DirectDebit', 'broadband_bundle_1GB',\n",
    "       'broadband_bundle_2GB', 'broadband_bundle_500Mbps', 'tv_bundle_Basic',\n",
    "       'tv_bundle_Premium']\n",
    "\n",
    "subsetWithBestFeatures = ['age', 'balance',\n",
    "       'has_broadband', 'num_support_calls', 'gender_Female', 'gender_Male']\n",
    "\n",
    "subsetNumerical = ['age', 'credit_score', 'membership_length', 'balance', 'num_products',\n",
    "       'num_support_calls']\n",
    "\n",
    "subsetCategorical = [\n",
    "       'has_broadband', 'has_tv', 'location_Connacht',\n",
    "       'location_Leinster', 'location_Munster', 'location_Ulster',\n",
    "       'gender_Female', 'gender_Male', 'payment_method_CreditCard',\n",
    "       'payment_method_DirectDebit', 'broadband_bundle_1GB',\n",
    "       'broadband_bundle_2GB', 'broadband_bundle_500Mbps',\n",
    "       'broadband_bundle_N/A', 'tv_bundle_Basic', 'tv_bundle_N/A',\n",
    "       'tv_bundle_Premium']\n",
    "\n",
    "subsetBundles = ['broadband_bundle_1GB',\n",
    "       'broadband_bundle_2GB', 'broadband_bundle_500Mbps',\n",
    "       'broadband_bundle_N/A', 'tv_bundle_Basic', 'tv_bundle_N/A',\n",
    "       'tv_bundle_Premium']\n",
    "\n",
    "subsetWithPossibleBestFeatures = ['age', 'balance', 'num_products',\n",
    "       'has_broadband', 'num_support_calls', 'location_Connacht',\n",
    "       'location_Leinster', 'location_Munster', 'location_Ulster',\n",
    "       'gender_Female', 'gender_Male']"
   ]
  },
  {
   "cell_type": "code",
   "execution_count": 788,
   "id": "e2c03c23",
   "metadata": {},
   "outputs": [],
   "source": [
    "#Creating the list of subsets\n",
    "dfs = []\n",
    "\n",
    "dfs.append(data[fullset])\n",
    "dfs.append(data[subsetWithoutNA])\n",
    "dfs.append(data[subsetWithBestFeatures])\n",
    "dfs.append(data[subsetNumerical])\n",
    "dfs.append(data[subsetCategorical])\n",
    "dfs.append(data[subsetBundles])\n",
    "dfs.append(data[subsetWithPossibleBestFeatures])"
   ]
  },
  {
   "cell_type": "code",
   "execution_count": 789,
   "id": "3d89599a",
   "metadata": {
    "scrolled": true
   },
   "outputs": [],
   "source": [
    "#Testing KNN model on subsets\n",
    "knn_model = KNeighborsClassifier(n_neighbors=bestk)\n",
    "knn_scores = []\n",
    "for dfsubsets in dfs:\n",
    "    knn_scores.append((cross_val_score(knn_model, dfsubsets.values, target.values, cv=5, scoring=\"accuracy\")).mean())"
   ]
  },
  {
   "cell_type": "code",
   "execution_count": 793,
   "id": "eecf1361",
   "metadata": {
    "scrolled": true
   },
   "outputs": [
    {
     "data": {
      "text/plain": [
       "Text(0, 0.5, 'Average Accuracy')"
      ]
     },
     "execution_count": 793,
     "metadata": {},
     "output_type": "execute_result"
    },
    {
     "data": {
      "image/png": "[encoded data removed]",
      "text/plain": [
       "<Figure size 1700x300 with 1 Axes>"
      ]
     },
     "metadata": {},
     "output_type": "display_data"
    }
   ],
   "source": [
    "#Plotting mean accuracy of KNN models\n",
    "subsets = [\"fullset\", \"subsetWithoutNA\", \"subsetWithBestFeatures\", \"subsetNumerical\", \"subsetCategorical\", \"subsetBundles\", \"subsetWithPossibleBestFeatures\"]\n",
    "plt.figure(figsize=(17, 3))\n",
    "plt.plot(subsets, knn_scores, marker=\"o\", lw=2)\n",
    "plt.title(\"Accuracy of different Subsets using KNN Model\")\n",
    "plt.xlabel(\"Subsets\")\n",
    "plt.ylabel(\"Average Accuracy\")"
   ]
  },
  {
   "cell_type": "code",
   "execution_count": 791,
   "id": "9e612754",
   "metadata": {},
   "outputs": [],
   "source": [
    "bestscore = max(knn_scores)\n",
    "\n",
    "for i in range(len(knn_scores)):\n",
    "    if knn_scores[i] == bestscore:\n",
    "        bestsubset = subsets[i]"
   ]
  },
  {
   "cell_type": "code",
   "execution_count": 792,
   "id": "d4de8016",
   "metadata": {},
   "outputs": [
    {
     "name": "stdout",
     "output_type": "stream",
     "text": [
      "Best subset: subsetWithPossibleBestFeatures\n",
      "Accuracy: 0.689\n"
     ]
    }
   ],
   "source": [
    "print(\"Best subset: %s\\nAccuracy: %.3f\" % (bestsubset, bestscore))"
   ]
  },
  {
   "cell_type": "code",
   "execution_count": 778,
   "id": "01720278",
   "metadata": {},
   "outputs": [],
   "source": [
    "#Testing Decision Tree Model on subsets\n",
    "dt_scores = []\n",
    "for dfsub in dfs:\n",
    "    dt_scores.append((cross_val_score(dt_model, dfsub.values, target.values, cv=5, scoring=\"accuracy\")).mean())"
   ]
  },
  {
   "cell_type": "code",
   "execution_count": 794,
   "id": "1f19a237",
   "metadata": {},
   "outputs": [
    {
     "data": {
      "text/plain": [
       "Text(0, 0.5, 'Average Accuracy')"
      ]
     },
     "execution_count": 794,
     "metadata": {},
     "output_type": "execute_result"
    },
    {
     "data": {
      "image/png": "[encoded data removed]",
      "text/plain": [
       "<Figure size 1700x300 with 1 Axes>"
      ]
     },
     "metadata": {},
     "output_type": "display_data"
    }
   ],
   "source": [
    "#Plotting mean accuracy of DT models\n",
    "plt.figure(figsize=(17, 3))\n",
    "plt.plot(subsets, dt_scores, marker=\"o\", lw=2)\n",
    "plt.title(\"Accuracy of different Subsets using DT Model\")\n",
    "plt.xlabel(\"Subsets\")\n",
    "plt.ylabel(\"Average Accuracy\")"
   ]
  },
  {
   "cell_type": "code",
   "execution_count": 795,
   "id": "2865b816",
   "metadata": {},
   "outputs": [
    {
     "name": "stdout",
     "output_type": "stream",
     "text": [
      "Best subset: fullset\tAccuracy: 0.716\n"
     ]
    }
   ],
   "source": [
    "bestscore = max(dt_scores)\n",
    "\n",
    "for i in range(len(dt_scores)):\n",
    "    if dt_scores[i] == bestscore:\n",
    "        bestsubset = subsets[i]\n",
    "\n",
    "print(\"Best subset: %s\\tAccuracy: %.3f\" % (bestsubset, bestscore))"
   ]
  },
  {
   "cell_type": "markdown",
   "id": "9be09f38",
   "metadata": {},
   "source": [
    "## Which feature(s) appear the most useful for classification?"
   ]
  },
  {
   "cell_type": "markdown",
   "id": "3944155b",
   "metadata": {},
   "source": [
    "We can order the subsets in terms of descending accuracy to see which subsets were the most accurate (and by extension useful)"
   ]
  },
  {
   "cell_type": "code",
   "execution_count": 796,
   "id": "f95a6a1a",
   "metadata": {},
   "outputs": [],
   "source": [
    "dictsubsets = {}\n",
    "\n",
    "for i in range(len(subsets)):\n",
    "    dictsubsets[subsets[i]] = knn_scores[i]"
   ]
  },
  {
   "cell_type": "code",
   "execution_count": 797,
   "id": "244e858b",
   "metadata": {},
   "outputs": [],
   "source": [
    "ser = pd.Series(dictsubsets)"
   ]
  },
  {
   "cell_type": "code",
   "execution_count": 798,
   "id": "d55b6607",
   "metadata": {},
   "outputs": [
    {
     "name": "stdout",
     "output_type": "stream",
     "text": [
      "KNN Subsets and their accuracy in descending order\n"
     ]
    },
    {
     "data": {
      "text/plain": [
       "subsetWithPossibleBestFeatures    0.689228\n",
       "subsetWithBestFeatures            0.687178\n",
       "subsetCategorical                 0.650963\n",
       "fullset                           0.629800\n",
       "subsetWithoutNA                   0.629800\n",
       "subsetNumerical                   0.629800\n",
       "subsetBundles                     0.597679\n",
       "dtype: float64"
      ]
     },
     "execution_count": 798,
     "metadata": {},
     "output_type": "execute_result"
    }
   ],
   "source": [
    "print(\"KNN Subsets and their accuracy in descending order\")\n",
    "ser.sort_values(ascending=False)"
   ]
  },
  {
   "cell_type": "markdown",
   "id": "839f9eeb",
   "metadata": {},
   "source": [
    "Unsurprisingly, the best and possible best features rank the highest.\n",
    "\n",
    "In fact, all the features that we thought might contribute to churning were the most useful for the KNN model. \n",
    "\n",
    "Adding the features \"location\" and \"number of products\" slightly increased the accuracy of the model. \n",
    "\n",
    "We can also see here that pure categorical features performed better than the full set of features, suggesting that the numerical features were not very impactful on churning. We saw this earlier too when we calculated the correlation between churning and the numerical features, and found out that the relationships were rather weak."
   ]
  },
  {
   "cell_type": "code",
   "execution_count": 803,
   "id": "1e343b7a",
   "metadata": {},
   "outputs": [],
   "source": [
    "dictsubsets = {}\n",
    "\n",
    "for i in range(len(subsets)):\n",
    "    dictsubsets[subsets[i]] = dt_scores[i]"
   ]
  },
  {
   "cell_type": "code",
   "execution_count": 800,
   "id": "d14f677d",
   "metadata": {},
   "outputs": [],
   "source": [
    "ser = pd.Series(dictsubsets)"
   ]
  },
  {
   "cell_type": "code",
   "execution_count": 801,
   "id": "93825440",
   "metadata": {},
   "outputs": [
    {
     "name": "stdout",
     "output_type": "stream",
     "text": [
      "Decision Tree Subsets and their accuracy in descending order\n"
     ]
    },
    {
     "data": {
      "text/plain": [
       "fullset                           0.715852\n",
       "subsetWithoutNA                   0.704902\n",
       "subsetWithPossibleBestFeatures    0.702866\n",
       "subsetNumerical                   0.692620\n",
       "subsetBundles                     0.685773\n",
       "subsetWithBestFeatures            0.671453\n",
       "subsetCategorical                 0.665964\n",
       "dtype: float64"
      ]
     },
     "execution_count": 801,
     "metadata": {},
     "output_type": "execute_result"
    }
   ],
   "source": [
    "print(\"Decision Tree Subsets and their accuracy in descending order\")\n",
    "\n",
    "ser.sort_values(ascending=False)"
   ]
  },
  {
   "cell_type": "markdown",
   "id": "4e98dc85",
   "metadata": {},
   "source": [
    "The fullset of features were most accurate here. This model was more accurate than KNN as well.\n",
    "\n",
    "The best features surprisingly rank very low. They also perform worse than the best possible features, suggesting that the features \"location\" and \"number of products\" do truly contribute to churning.\n",
    "\n",
    "The numerical features perform better here compared to the categorical features, unlike the KNN model."
   ]
  },
  {
   "cell_type": "markdown",
   "id": "fbee7cac",
   "metadata": {},
   "source": [
    "#### Most useful features for KNN classification:\n",
    "\n",
    "- age\n",
    "- balance\n",
    "- has_broadband\n",
    "- num_support_calls\n",
    "- gender\n",
    "- location\n",
    "- num_products\n",
    "\n",
    "#### Most useful features for Decision Tree classification:\n",
    "\n",
    "All features:\n",
    "- age\n",
    "- location\n",
    "- gender\n",
    "- credit_score\n",
    "- membership_length\n",
    "- balance\n",
    "- payment_method\n",
    "- num_products\n",
    "- has_broadband\n",
    "- has_tv\n",
    "- broadband_bundle\n",
    "- tv_bundle\n",
    "- num_support_calls"
   ]
  }
 ],
 "metadata": {
  "kernelspec": {
   "display_name": "Python 3 (ipykernel)",
   "language": "python",
   "name": "python3"
  },
  "language_info": {
   "codemirror_mode": {
    "name": "ipython",
    "version": 3
   },
   "file_extension": ".py",
   "mimetype": "text/x-python",
   "name": "python",
   "nbconvert_exporter": "python",
   "pygments_lexer": "ipython3",
   "version": "3.11.4"
  }
 },
 "nbformat": 4,
 "nbformat_minor": 5
}
